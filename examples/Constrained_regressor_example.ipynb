{
 "cells": [
  {
   "cell_type": "code",
   "execution_count": 191,
   "metadata": {
    "ExecuteTime": {
     "end_time": "2021-08-08T17:41:07.923376Z",
     "start_time": "2021-08-08T17:41:07.919073Z"
    }
   },
   "outputs": [],
   "source": [
    "import joblib\n",
    "import pandas as pd\n",
    "\n",
    "from multiobjective_gbt import MooGBTRegressor\n",
    "\n",
    "from sklearn.metrics import mean_squared_error, mean_absolute_error, r2_score\n",
    "import math\n",
    "\n",
    "import seaborn as sns\n",
    "import matplotlib.pyplot as plt"
   ]
  },
  {
   "cell_type": "markdown",
   "metadata": {},
   "source": [
    "#### Preprocssing MSLR Dataset"
   ]
  },
  {
   "cell_type": "markdown",
   "metadata": {},
   "source": [
    "##### Convert to Pandas DataFrame"
   ]
  },
  {
   "cell_type": "code",
   "execution_count": 2,
   "metadata": {
    "ExecuteTime": {
     "end_time": "2021-08-08T15:44:25.244877Z",
     "start_time": "2021-08-08T15:44:25.235374Z"
    }
   },
   "outputs": [],
   "source": [
    "class Letor_Converter(object):    \n",
    "    '''\n",
    "    Class Converter implements parsing from original letor txt files to\n",
    "    pandas data frame representation.\n",
    "    '''\n",
    "    \n",
    "    def __init__(self, path):\n",
    "        \n",
    "        '''\n",
    "        Arguments:\n",
    "            path: path to letor txt file\n",
    "        '''\n",
    "        self._path = path\n",
    "        \n",
    "    @property\n",
    "    def path(self):\n",
    "        return self._path\n",
    "    \n",
    "    @path.setter\n",
    "    def path(self, p):\n",
    "        self._path = p\n",
    "        \n",
    "    def _load_file(self):\n",
    "        '''        \n",
    "        Loads and parses raw letor txt file.\n",
    "        \n",
    "        Return:\n",
    "            letor txt file parsed to csv in raw format\n",
    "        '''\n",
    "        return pd.read_csv(str(self._path), sep=\" \", header=None)\n",
    "        \n",
    "    def _drop_col(self, df):\n",
    "        '''\n",
    "        Drops last column, which was added in the parsing procedure due to a\n",
    "        trailing white space for each sample in the text file\n",
    "        \n",
    "        Arguments:\n",
    "            df: pandas dataframe\n",
    "        Return:\n",
    "            df: original df with last column dropped\n",
    "        '''\n",
    "        return df.drop(df.columns[-1], axis=1)\n",
    "    \n",
    "    def _split_colon(self, df):\n",
    "        '''\n",
    "        Splits the data on the colon and transforms it into a tabular format\n",
    "        where columns are features and rows samples. Cells represent feature\n",
    "        values per sample.\n",
    "        \n",
    "        Arguments:\n",
    "            df: pandas dataframe object\n",
    "        Return:\n",
    "            df: original df with string pattern ':' removed; columns named appropriately\n",
    "        '''\n",
    "        for col in range(1,len(df.columns)):\n",
    "            df.loc[:,col] = df.loc[:,col].apply(lambda x: str(x).split(':')[1])\n",
    "        df.columns = ['rel', 'qid'] + [str(x) for x in range(1,len(df.columns)-1)] # renaming cols\n",
    "        return df\n",
    "    \n",
    "    def convert(self):\n",
    "        '''\n",
    "        Performs final conversion.\n",
    "        \n",
    "        Return:\n",
    "            fully converted pandas dataframe\n",
    "        '''\n",
    "        df_raw = self._load_file()\n",
    "        df_drop = self._drop_col(df_raw)\n",
    "        return self._split_colon(df_drop)\n",
    "    \n",
    "# conv = Letor_Converter(\"MSLR-WEB10K/Fold1/train.txt\")\n",
    "# df_train_fold1 = conv.convert()\n",
    "# print (df_train_fold1.shape)\n",
    "# df_train_fold1.head()"
   ]
  },
  {
   "cell_type": "code",
   "execution_count": 3,
   "metadata": {
    "ExecuteTime": {
     "end_time": "2021-08-03T16:37:02.198058Z",
     "start_time": "2021-08-03T16:23:45.429822Z"
    }
   },
   "outputs": [
    {
     "name": "stdout",
     "output_type": "stream",
     "text": [
      "(723412, 138) (235259, 138) (241521, 138)\n",
      "(723412, 138) (235259, 138) (241521, 138)\n",
      "(716683, 138) (241521, 138) (241988, 138)\n",
      "(1440095, 138) (476780, 138) (483509, 138)\n",
      "(719111, 138) (241988, 138) (239093, 138)\n",
      "(2159206, 138) (718768, 138) (722602, 138)\n",
      "(718768, 138) (239093, 138) (242331, 138)\n",
      "(2877974, 138) (957861, 138) (964933, 138)\n",
      "(722602, 138) (242331, 138) (235259, 138)\n",
      "(3600576, 138) (1200192, 138) (1200192, 138)\n"
     ]
    }
   ],
   "source": [
    "train = pd.DataFrame()\n",
    "val = pd.DataFrame()\n",
    "test = pd.DataFrame()\n",
    "\n",
    "for fold in range(5):\n",
    "    path = f\"MSLR-WEB10K/Fold{fold + 1}/\"\n",
    "    train_ = Letor_Converter(f\"{path}train.txt\").convert()\n",
    "    val_ = Letor_Converter(f\"{path}vali.txt\").convert()\n",
    "    test_ = Letor_Converter(f\"{path}test.txt\").convert()\n",
    "    \n",
    "    print (train_.shape, val_.shape, test_.shape)\n",
    "    \n",
    "    train = pd.concat([train, train_])\n",
    "    val = pd.concat([val, val_])    \n",
    "    test = pd.concat([test, test_])    \n",
    "    \n",
    "    print (train.shape, val.shape, test.shape)"
   ]
  },
  {
   "cell_type": "code",
   "execution_count": 4,
   "metadata": {
    "ExecuteTime": {
     "end_time": "2021-08-03T16:37:02.345456Z",
     "start_time": "2021-08-03T16:37:02.223179Z"
    }
   },
   "outputs": [
    {
     "data": {
      "text/html": [
       "<div>\n",
       "<style scoped>\n",
       "    .dataframe tbody tr th:only-of-type {\n",
       "        vertical-align: middle;\n",
       "    }\n",
       "\n",
       "    .dataframe tbody tr th {\n",
       "        vertical-align: top;\n",
       "    }\n",
       "\n",
       "    .dataframe thead th {\n",
       "        text-align: right;\n",
       "    }\n",
       "</style>\n",
       "<table border=\"1\" class=\"dataframe\">\n",
       "  <thead>\n",
       "    <tr style=\"text-align: right;\">\n",
       "      <th></th>\n",
       "      <th>rel</th>\n",
       "      <th>qid</th>\n",
       "      <th>1</th>\n",
       "      <th>2</th>\n",
       "      <th>3</th>\n",
       "      <th>4</th>\n",
       "      <th>5</th>\n",
       "      <th>6</th>\n",
       "      <th>7</th>\n",
       "      <th>8</th>\n",
       "      <th>...</th>\n",
       "      <th>127</th>\n",
       "      <th>128</th>\n",
       "      <th>129</th>\n",
       "      <th>130</th>\n",
       "      <th>131</th>\n",
       "      <th>132</th>\n",
       "      <th>133</th>\n",
       "      <th>134</th>\n",
       "      <th>135</th>\n",
       "      <th>136</th>\n",
       "    </tr>\n",
       "  </thead>\n",
       "  <tbody>\n",
       "    <tr>\n",
       "      <th>0</th>\n",
       "      <td>2</td>\n",
       "      <td>1</td>\n",
       "      <td>3</td>\n",
       "      <td>3</td>\n",
       "      <td>0</td>\n",
       "      <td>0</td>\n",
       "      <td>3</td>\n",
       "      <td>1</td>\n",
       "      <td>1</td>\n",
       "      <td>0</td>\n",
       "      <td>...</td>\n",
       "      <td>62</td>\n",
       "      <td>11089534</td>\n",
       "      <td>2</td>\n",
       "      <td>116</td>\n",
       "      <td>64034</td>\n",
       "      <td>13</td>\n",
       "      <td>3</td>\n",
       "      <td>0</td>\n",
       "      <td>0</td>\n",
       "      <td>0</td>\n",
       "    </tr>\n",
       "    <tr>\n",
       "      <th>1</th>\n",
       "      <td>2</td>\n",
       "      <td>1</td>\n",
       "      <td>3</td>\n",
       "      <td>0</td>\n",
       "      <td>3</td>\n",
       "      <td>0</td>\n",
       "      <td>3</td>\n",
       "      <td>1</td>\n",
       "      <td>0</td>\n",
       "      <td>1</td>\n",
       "      <td>...</td>\n",
       "      <td>54</td>\n",
       "      <td>11089534</td>\n",
       "      <td>2</td>\n",
       "      <td>124</td>\n",
       "      <td>64034</td>\n",
       "      <td>1</td>\n",
       "      <td>2</td>\n",
       "      <td>0</td>\n",
       "      <td>0</td>\n",
       "      <td>0</td>\n",
       "    </tr>\n",
       "    <tr>\n",
       "      <th>2</th>\n",
       "      <td>0</td>\n",
       "      <td>1</td>\n",
       "      <td>3</td>\n",
       "      <td>0</td>\n",
       "      <td>2</td>\n",
       "      <td>0</td>\n",
       "      <td>3</td>\n",
       "      <td>1</td>\n",
       "      <td>0</td>\n",
       "      <td>0.666667</td>\n",
       "      <td>...</td>\n",
       "      <td>45</td>\n",
       "      <td>3</td>\n",
       "      <td>1</td>\n",
       "      <td>124</td>\n",
       "      <td>3344</td>\n",
       "      <td>14</td>\n",
       "      <td>67</td>\n",
       "      <td>0</td>\n",
       "      <td>0</td>\n",
       "      <td>0</td>\n",
       "    </tr>\n",
       "    <tr>\n",
       "      <th>3</th>\n",
       "      <td>2</td>\n",
       "      <td>1</td>\n",
       "      <td>3</td>\n",
       "      <td>0</td>\n",
       "      <td>3</td>\n",
       "      <td>0</td>\n",
       "      <td>3</td>\n",
       "      <td>1</td>\n",
       "      <td>0</td>\n",
       "      <td>1</td>\n",
       "      <td>...</td>\n",
       "      <td>56</td>\n",
       "      <td>11089534</td>\n",
       "      <td>13</td>\n",
       "      <td>123</td>\n",
       "      <td>63933</td>\n",
       "      <td>1</td>\n",
       "      <td>3</td>\n",
       "      <td>0</td>\n",
       "      <td>0</td>\n",
       "      <td>0</td>\n",
       "    </tr>\n",
       "    <tr>\n",
       "      <th>4</th>\n",
       "      <td>1</td>\n",
       "      <td>1</td>\n",
       "      <td>3</td>\n",
       "      <td>0</td>\n",
       "      <td>3</td>\n",
       "      <td>0</td>\n",
       "      <td>3</td>\n",
       "      <td>1</td>\n",
       "      <td>0</td>\n",
       "      <td>1</td>\n",
       "      <td>...</td>\n",
       "      <td>64</td>\n",
       "      <td>5</td>\n",
       "      <td>7</td>\n",
       "      <td>256</td>\n",
       "      <td>49697</td>\n",
       "      <td>1</td>\n",
       "      <td>13</td>\n",
       "      <td>0</td>\n",
       "      <td>0</td>\n",
       "      <td>0</td>\n",
       "    </tr>\n",
       "  </tbody>\n",
       "</table>\n",
       "<p>5 rows × 138 columns</p>\n",
       "</div>"
      ],
      "text/plain": [
       "   rel qid  1  2  3  4  5  6  7         8  ... 127       128 129  130    131  \\\n",
       "0    2   1  3  3  0  0  3  1  1         0  ...  62  11089534   2  116  64034   \n",
       "1    2   1  3  0  3  0  3  1  0         1  ...  54  11089534   2  124  64034   \n",
       "2    0   1  3  0  2  0  3  1  0  0.666667  ...  45         3   1  124   3344   \n",
       "3    2   1  3  0  3  0  3  1  0         1  ...  56  11089534  13  123  63933   \n",
       "4    1   1  3  0  3  0  3  1  0         1  ...  64         5   7  256  49697   \n",
       "\n",
       "  132 133 134 135 136  \n",
       "0  13   3   0   0   0  \n",
       "1   1   2   0   0   0  \n",
       "2  14  67   0   0   0  \n",
       "3   1   3   0   0   0  \n",
       "4   1  13   0   0   0  \n",
       "\n",
       "[5 rows x 138 columns]"
      ]
     },
     "execution_count": 4,
     "metadata": {},
     "output_type": "execute_result"
    }
   ],
   "source": [
    "train.head()"
   ]
  },
  {
   "cell_type": "markdown",
   "metadata": {},
   "source": [
    "##### Typecasting"
   ]
  },
  {
   "cell_type": "code",
   "execution_count": 10,
   "metadata": {
    "ExecuteTime": {
     "end_time": "2021-08-03T16:42:29.244299Z",
     "start_time": "2021-08-03T16:42:29.239688Z"
    }
   },
   "outputs": [
    {
     "data": {
      "text/plain": [
       "((3600576, 138), (1200192, 138), (1200192, 138))"
      ]
     },
     "execution_count": 10,
     "metadata": {},
     "output_type": "execute_result"
    }
   ],
   "source": [
    "train.shape, val.shape, test.shape"
   ]
  },
  {
   "cell_type": "code",
   "execution_count": 20,
   "metadata": {
    "ExecuteTime": {
     "end_time": "2021-08-04T08:33:38.016231Z",
     "start_time": "2021-08-04T08:33:37.705217Z"
    }
   },
   "outputs": [],
   "source": [
    "for col in objective_cols:\n",
    "    train[col] = pd.Series(train[col], dtype='float64')\n",
    "    val[col] = pd.Series(val[col], dtype='float64')    "
   ]
  },
  {
   "cell_type": "code",
   "execution_count": 13,
   "metadata": {
    "ExecuteTime": {
     "end_time": "2021-08-03T16:53:24.848123Z",
     "start_time": "2021-08-03T16:53:24.817881Z"
    }
   },
   "outputs": [
    {
     "data": {
      "text/plain": [
       "((3600576, 138), (1200192, 138), (1200192, 138))"
      ]
     },
     "execution_count": 13,
     "metadata": {},
     "output_type": "execute_result"
    }
   ],
   "source": [
    "train.shape, val.shape, test.shape"
   ]
  },
  {
   "cell_type": "code",
   "execution_count": 14,
   "metadata": {
    "ExecuteTime": {
     "end_time": "2021-08-03T16:58:14.199312Z",
     "start_time": "2021-08-03T16:53:24.856404Z"
    }
   },
   "outputs": [],
   "source": [
    "# train.to_csv('train.csv', index=False)\n",
    "# val.to_csv('val.csv', index=False)\n",
    "# test.to_csv('test.csv', index=False)"
   ]
  },
  {
   "cell_type": "code",
   "execution_count": 3,
   "metadata": {
    "ExecuteTime": {
     "end_time": "2021-08-08T15:46:02.656919Z",
     "start_time": "2021-08-08T15:44:58.934205Z"
    }
   },
   "outputs": [
    {
     "data": {
      "text/plain": [
       "((3600576, 138), (1200192, 138), (1200192, 138))"
      ]
     },
     "execution_count": 3,
     "metadata": {},
     "output_type": "execute_result"
    }
   ],
   "source": [
    "# train = pd.read_csv('train.csv')\n",
    "# val = pd.read_csv('val.csv')\n",
    "# test = pd.read_csv('test.csv')\n",
    "# train.shape, val.shape, test.shape"
   ]
  },
  {
   "cell_type": "code",
   "execution_count": 5,
   "metadata": {
    "ExecuteTime": {
     "end_time": "2021-08-08T15:47:50.115746Z",
     "start_time": "2021-08-08T15:47:50.076141Z"
    }
   },
   "outputs": [
    {
     "data": {
      "text/html": [
       "<div>\n",
       "<style scoped>\n",
       "    .dataframe tbody tr th:only-of-type {\n",
       "        vertical-align: middle;\n",
       "    }\n",
       "\n",
       "    .dataframe tbody tr th {\n",
       "        vertical-align: top;\n",
       "    }\n",
       "\n",
       "    .dataframe thead th {\n",
       "        text-align: right;\n",
       "    }\n",
       "</style>\n",
       "<table border=\"1\" class=\"dataframe\">\n",
       "  <thead>\n",
       "    <tr style=\"text-align: right;\">\n",
       "      <th></th>\n",
       "      <th>rel</th>\n",
       "      <th>qid</th>\n",
       "      <th>1</th>\n",
       "      <th>2</th>\n",
       "      <th>3</th>\n",
       "      <th>4</th>\n",
       "      <th>5</th>\n",
       "      <th>6</th>\n",
       "      <th>7</th>\n",
       "      <th>8</th>\n",
       "      <th>...</th>\n",
       "      <th>127</th>\n",
       "      <th>128</th>\n",
       "      <th>129</th>\n",
       "      <th>130</th>\n",
       "      <th>131</th>\n",
       "      <th>132</th>\n",
       "      <th>133</th>\n",
       "      <th>134</th>\n",
       "      <th>135</th>\n",
       "      <th>136</th>\n",
       "    </tr>\n",
       "  </thead>\n",
       "  <tbody>\n",
       "    <tr>\n",
       "      <th>0</th>\n",
       "      <td>2</td>\n",
       "      <td>1</td>\n",
       "      <td>3</td>\n",
       "      <td>3</td>\n",
       "      <td>0</td>\n",
       "      <td>0</td>\n",
       "      <td>3</td>\n",
       "      <td>1.0</td>\n",
       "      <td>1.0</td>\n",
       "      <td>0.000000</td>\n",
       "      <td>...</td>\n",
       "      <td>62</td>\n",
       "      <td>11089534</td>\n",
       "      <td>2</td>\n",
       "      <td>116.0</td>\n",
       "      <td>64034</td>\n",
       "      <td>13.0</td>\n",
       "      <td>3.0</td>\n",
       "      <td>0</td>\n",
       "      <td>0.0</td>\n",
       "      <td>0.0</td>\n",
       "    </tr>\n",
       "    <tr>\n",
       "      <th>1</th>\n",
       "      <td>2</td>\n",
       "      <td>1</td>\n",
       "      <td>3</td>\n",
       "      <td>0</td>\n",
       "      <td>3</td>\n",
       "      <td>0</td>\n",
       "      <td>3</td>\n",
       "      <td>1.0</td>\n",
       "      <td>0.0</td>\n",
       "      <td>1.000000</td>\n",
       "      <td>...</td>\n",
       "      <td>54</td>\n",
       "      <td>11089534</td>\n",
       "      <td>2</td>\n",
       "      <td>124.0</td>\n",
       "      <td>64034</td>\n",
       "      <td>1.0</td>\n",
       "      <td>2.0</td>\n",
       "      <td>0</td>\n",
       "      <td>0.0</td>\n",
       "      <td>0.0</td>\n",
       "    </tr>\n",
       "    <tr>\n",
       "      <th>2</th>\n",
       "      <td>0</td>\n",
       "      <td>1</td>\n",
       "      <td>3</td>\n",
       "      <td>0</td>\n",
       "      <td>2</td>\n",
       "      <td>0</td>\n",
       "      <td>3</td>\n",
       "      <td>1.0</td>\n",
       "      <td>0.0</td>\n",
       "      <td>0.666667</td>\n",
       "      <td>...</td>\n",
       "      <td>45</td>\n",
       "      <td>3</td>\n",
       "      <td>1</td>\n",
       "      <td>124.0</td>\n",
       "      <td>3344</td>\n",
       "      <td>14.0</td>\n",
       "      <td>67.0</td>\n",
       "      <td>0</td>\n",
       "      <td>0.0</td>\n",
       "      <td>0.0</td>\n",
       "    </tr>\n",
       "    <tr>\n",
       "      <th>3</th>\n",
       "      <td>2</td>\n",
       "      <td>1</td>\n",
       "      <td>3</td>\n",
       "      <td>0</td>\n",
       "      <td>3</td>\n",
       "      <td>0</td>\n",
       "      <td>3</td>\n",
       "      <td>1.0</td>\n",
       "      <td>0.0</td>\n",
       "      <td>1.000000</td>\n",
       "      <td>...</td>\n",
       "      <td>56</td>\n",
       "      <td>11089534</td>\n",
       "      <td>13</td>\n",
       "      <td>123.0</td>\n",
       "      <td>63933</td>\n",
       "      <td>1.0</td>\n",
       "      <td>3.0</td>\n",
       "      <td>0</td>\n",
       "      <td>0.0</td>\n",
       "      <td>0.0</td>\n",
       "    </tr>\n",
       "    <tr>\n",
       "      <th>4</th>\n",
       "      <td>1</td>\n",
       "      <td>1</td>\n",
       "      <td>3</td>\n",
       "      <td>0</td>\n",
       "      <td>3</td>\n",
       "      <td>0</td>\n",
       "      <td>3</td>\n",
       "      <td>1.0</td>\n",
       "      <td>0.0</td>\n",
       "      <td>1.000000</td>\n",
       "      <td>...</td>\n",
       "      <td>64</td>\n",
       "      <td>5</td>\n",
       "      <td>7</td>\n",
       "      <td>256.0</td>\n",
       "      <td>49697</td>\n",
       "      <td>1.0</td>\n",
       "      <td>13.0</td>\n",
       "      <td>0</td>\n",
       "      <td>0.0</td>\n",
       "      <td>0.0</td>\n",
       "    </tr>\n",
       "  </tbody>\n",
       "</table>\n",
       "<p>5 rows × 138 columns</p>\n",
       "</div>"
      ],
      "text/plain": [
       "   rel  qid  1  2  3  4  5    6    7         8  ...  127       128  129  \\\n",
       "0    2    1  3  3  0  0  3  1.0  1.0  0.000000  ...   62  11089534    2   \n",
       "1    2    1  3  0  3  0  3  1.0  0.0  1.000000  ...   54  11089534    2   \n",
       "2    0    1  3  0  2  0  3  1.0  0.0  0.666667  ...   45         3    1   \n",
       "3    2    1  3  0  3  0  3  1.0  0.0  1.000000  ...   56  11089534   13   \n",
       "4    1    1  3  0  3  0  3  1.0  0.0  1.000000  ...   64         5    7   \n",
       "\n",
       "     130    131   132   133  134  135  136  \n",
       "0  116.0  64034  13.0   3.0    0  0.0  0.0  \n",
       "1  124.0  64034   1.0   2.0    0  0.0  0.0  \n",
       "2  124.0   3344  14.0  67.0    0  0.0  0.0  \n",
       "3  123.0  63933   1.0   3.0    0  0.0  0.0  \n",
       "4  256.0  49697   1.0  13.0    0  0.0  0.0  \n",
       "\n",
       "[5 rows x 138 columns]"
      ]
     },
     "execution_count": 5,
     "metadata": {},
     "output_type": "execute_result"
    }
   ],
   "source": [
    "train.head()"
   ]
  },
  {
   "cell_type": "code",
   "execution_count": 125,
   "metadata": {
    "ExecuteTime": {
     "end_time": "2021-08-08T16:30:29.409610Z",
     "start_time": "2021-08-08T16:30:29.399115Z"
    }
   },
   "outputs": [
    {
     "data": {
      "text/plain": [
       "136"
      ]
     },
     "execution_count": 125,
     "metadata": {},
     "output_type": "execute_result"
    }
   ],
   "source": [
    "col_names = ['covered_query_term_number_body','covered_query_term_number_anchor',\n",
    "             'covered_query_term_number_title','covered_query_term_number_url','covered_query_term_number_whole_document','covered_query_term_ratio_body','covered_query_term_ratio_anchor','covered_query_term_ratio_title','covered_query_term_ratio_url','covered_query_term_ratio_whole_document','stream_length_body','stream_length_anchor','stream_length_title','stream_length_url','stream_length_whole_document','IDF_Inverse_document_frequency__body','IDF_Inverse_document_frequency__anchor','IDF_Inverse_document_frequency__title','IDF_Inverse_document_frequency__url','IDF_Inverse_document_frequency__whole_document','sum_of_term_frequency_body','sum_of_term_frequency_anchor','sum_of_term_frequency_title','sum_of_term_frequency_url','sum_of_term_frequency_whole_document','min_of_term_frequency_body','min_of_term_frequency_anchor','min_of_term_frequency_title','min_of_term_frequency_url','min_of_term_frequency_whole_document','max_of_term_frequency_body','max_of_term_frequency_anchor','max_of_term_frequency_title','max_of_term_frequency_url','max_of_term_frequency_whole_document','mean_of_term_frequency_body','mean_of_term_frequency_anchor','mean_of_term_frequency_title','mean_of_term_frequency_url','mean_of_term_frequency_whole_document','variance_of_term_frequency_body','variance_of_term_frequency_anchor','variance_of_term_frequency_title','variance_of_term_frequency_url','variance_of_term_frequency_whole_document','sum_of_stream_length_normalized_term_frequency_body','sum_of_stream_length_normalized_term_frequency_anchor','sum_of_stream_length_normalized_term_frequency_title','sum_of_stream_length_normalized_term_frequency_url','sum_of_stream_length_normalized_term_frequency_whole_document','min_of_stream_length_normalized_term_frequency_body','min_of_stream_length_normalized_term_frequency_anchor','min_of_stream_length_normalized_term_frequency_title','min_of_stream_length_normalized_term_frequency_url','min_of_stream_length_normalized_term_frequency_whole_document','max_of_stream_length_normalized_term_frequency_body','max_of_stream_length_normalized_term_frequency_anchor','max_of_stream_length_normalized_term_frequency_title','max_of_stream_length_normalized_term_frequency_url','max_of_stream_length_normalized_term_frequency_whole_document','mean_of_stream_length_normalized_term_frequency_body','mean_of_stream_length_normalized_term_frequency_anchor','mean_of_stream_length_normalized_term_frequency_title','mean_of_stream_length_normalized_term_frequency_url','mean_of_stream_length_normalized_term_frequency_whole_document','variance_of_stream_length_normalized_term_frequency_body','variance_of_stream_length_normalized_term_frequency_anchor','variance_of_stream_length_normalized_term_frequency_title','variance_of_stream_length_normalized_term_frequency_url','variance_of_stream_length_normalized_term_frequency_whole_document','sum_of_tf_idf_body','sum_of_tf_idf_anchor','sum_of_tf_idf_title','sum_of_tf_idf_url','sum_of_tf_idf_whole_document','min_of_tf_idf_body','min_of_tf_idf_anchor','min_of_tf_idf_title','min_of_tf_idf_url','min_of_tf_idf_whole_document','max_of_tf_idf_body','max_of_tf_idf_anchor','max_of_tf_idf_title','max_of_tf_idf_url','max_of_tf_idf_whole_document','mean_of_tf_idf_body','mean_of_tf_idf_anchor','mean_of_tf_idf_title','mean_of_tf_idf_url','mean_of_tf_idf_whole_document','variance_of_tf_idf_body','variance_of_tf_idf_anchor','variance_of_tf_idf_title','variance_of_tf_idf_url','variance_of_tf_idf_whole_document','boolean_model_body','boolean_model_anchor','boolean_model_title','boolean_model_url','boolean_model_whole_document','vector_space_model_body','vector_space_model_anchor','vector_space_model_title','vector_space_model_url','vector_space_model_whole_document','BM25_body','BM25_anchor','BM25_title','BM25_url','BM25_whole_document','LMIR_ABS_body','LMIR_ABS_anchor','LMIR_ABS_title','LMIR_ABS_url','LMIR_ABS_whole_document','LMIR_DIR_body','LMIR_DIR_anchor','LMIR_DIR_title','LMIR_DIR_url','LMIR_DIR_whole_document','LMIR_JM_body','LMIR_JM_anchor','LMIR_JM_title','LMIR_JM_url','LMIR_JM_whole_document','Number_of_slash_in_URL_','Length_of_URL_','Inlink_number_','Outlink_number_','PageRank_','SiteRank','QualityScore','QualityScore2','Query-url_click_count','url_click_count','url_dwell_time']\n",
    "len(col_names)"
   ]
  },
  {
   "cell_type": "code",
   "execution_count": 126,
   "metadata": {
    "ExecuteTime": {
     "end_time": "2021-08-08T16:30:30.859935Z",
     "start_time": "2021-08-08T16:30:30.855546Z"
    }
   },
   "outputs": [
    {
     "data": {
      "text/plain": [
       "138"
      ]
     },
     "execution_count": 126,
     "metadata": {},
     "output_type": "execute_result"
    }
   ],
   "source": [
    "all_cols = ['rel', 'quid']\n",
    "all_cols.extend(col_names)\n",
    "len(all_cols)"
   ]
  },
  {
   "cell_type": "code",
   "execution_count": 127,
   "metadata": {
    "ExecuteTime": {
     "end_time": "2021-08-08T16:30:31.434931Z",
     "start_time": "2021-08-08T16:30:31.431473Z"
    }
   },
   "outputs": [],
   "source": [
    "train.columns = all_cols\n",
    "val.columns = all_cols\n",
    "test.columns = all_cols"
   ]
  },
  {
   "cell_type": "code",
   "execution_count": 128,
   "metadata": {
    "ExecuteTime": {
     "end_time": "2021-08-08T16:30:32.385598Z",
     "start_time": "2021-08-08T16:30:32.354809Z"
    }
   },
   "outputs": [
    {
     "data": {
      "text/plain": [
       "0    1872789\n",
       "1    1158840\n",
       "2     478353\n",
       "3      63951\n",
       "4      26643\n",
       "Name: rel, dtype: int64"
      ]
     },
     "execution_count": 128,
     "metadata": {},
     "output_type": "execute_result"
    }
   ],
   "source": [
    "train['rel'].value_counts()"
   ]
  },
  {
   "cell_type": "code",
   "execution_count": 129,
   "metadata": {
    "ExecuteTime": {
     "end_time": "2021-08-08T16:30:32.588896Z",
     "start_time": "2021-08-08T16:30:32.573842Z"
    }
   },
   "outputs": [
    {
     "data": {
      "text/plain": [
       "0    624263\n",
       "1    386280\n",
       "2    159451\n",
       "3     21317\n",
       "4      8881\n",
       "Name: rel, dtype: int64"
      ]
     },
     "execution_count": 129,
     "metadata": {},
     "output_type": "execute_result"
    }
   ],
   "source": [
    "val['rel'].value_counts()"
   ]
  },
  {
   "cell_type": "code",
   "execution_count": 130,
   "metadata": {
    "ExecuteTime": {
     "end_time": "2021-08-08T16:30:32.771669Z",
     "start_time": "2021-08-08T16:30:32.757761Z"
    }
   },
   "outputs": [
    {
     "data": {
      "text/plain": [
       "0    624263\n",
       "1    386280\n",
       "2    159451\n",
       "3     21317\n",
       "4      8881\n",
       "Name: rel, dtype: int64"
      ]
     },
     "execution_count": 130,
     "metadata": {},
     "output_type": "execute_result"
    }
   ],
   "source": [
    "test['rel'].value_counts()"
   ]
  },
  {
   "cell_type": "markdown",
   "metadata": {},
   "source": [
    "##### Undersampling Training/Validation Data"
   ]
  },
  {
   "cell_type": "code",
   "execution_count": 131,
   "metadata": {
    "ExecuteTime": {
     "end_time": "2021-08-08T16:30:43.907809Z",
     "start_time": "2021-08-08T16:30:33.966406Z"
    }
   },
   "outputs": [
    {
     "data": {
      "text/plain": [
       "((133215, 138), (44405, 138))"
      ]
     },
     "execution_count": 131,
     "metadata": {},
     "output_type": "execute_result"
    }
   ],
   "source": [
    "train_sample = train.groupby(['rel']).apply(lambda grp: grp.sample(n=26643)).reset_index(level=[0, 1], drop=True)\n",
    "val_sample = val.groupby(['rel']).apply(lambda grp: grp.sample(n=8881)).reset_index(level=[0, 1], drop=True)\n",
    "\n",
    "train_sample.shape, val_sample.shape"
   ]
  },
  {
   "cell_type": "code",
   "execution_count": 132,
   "metadata": {
    "ExecuteTime": {
     "end_time": "2021-08-08T16:30:44.643125Z",
     "start_time": "2021-08-08T16:30:44.619330Z"
    }
   },
   "outputs": [
    {
     "data": {
      "text/html": [
       "<div>\n",
       "<style scoped>\n",
       "    .dataframe tbody tr th:only-of-type {\n",
       "        vertical-align: middle;\n",
       "    }\n",
       "\n",
       "    .dataframe tbody tr th {\n",
       "        vertical-align: top;\n",
       "    }\n",
       "\n",
       "    .dataframe thead th {\n",
       "        text-align: right;\n",
       "    }\n",
       "</style>\n",
       "<table border=\"1\" class=\"dataframe\">\n",
       "  <thead>\n",
       "    <tr style=\"text-align: right;\">\n",
       "      <th></th>\n",
       "      <th>rel</th>\n",
       "      <th>quid</th>\n",
       "      <th>covered_query_term_number_body</th>\n",
       "      <th>covered_query_term_number_anchor</th>\n",
       "      <th>covered_query_term_number_title</th>\n",
       "      <th>covered_query_term_number_url</th>\n",
       "      <th>covered_query_term_number_whole_document</th>\n",
       "      <th>covered_query_term_ratio_body</th>\n",
       "      <th>covered_query_term_ratio_anchor</th>\n",
       "      <th>covered_query_term_ratio_title</th>\n",
       "      <th>...</th>\n",
       "      <th>Length_of_URL_</th>\n",
       "      <th>Inlink_number_</th>\n",
       "      <th>Outlink_number_</th>\n",
       "      <th>PageRank_</th>\n",
       "      <th>SiteRank</th>\n",
       "      <th>QualityScore</th>\n",
       "      <th>QualityScore2</th>\n",
       "      <th>Query-url_click_count</th>\n",
       "      <th>url_click_count</th>\n",
       "      <th>url_dwell_time</th>\n",
       "    </tr>\n",
       "  </thead>\n",
       "  <tbody>\n",
       "    <tr>\n",
       "      <th>0</th>\n",
       "      <td>0</td>\n",
       "      <td>12895</td>\n",
       "      <td>1</td>\n",
       "      <td>0</td>\n",
       "      <td>1</td>\n",
       "      <td>0</td>\n",
       "      <td>1</td>\n",
       "      <td>0.500000</td>\n",
       "      <td>0.0</td>\n",
       "      <td>0.500000</td>\n",
       "      <td>...</td>\n",
       "      <td>35</td>\n",
       "      <td>21</td>\n",
       "      <td>5</td>\n",
       "      <td>575.0</td>\n",
       "      <td>65535</td>\n",
       "      <td>6.0</td>\n",
       "      <td>14.0</td>\n",
       "      <td>0</td>\n",
       "      <td>0.0</td>\n",
       "      <td>0.000000</td>\n",
       "    </tr>\n",
       "    <tr>\n",
       "      <th>1</th>\n",
       "      <td>0</td>\n",
       "      <td>2776</td>\n",
       "      <td>1</td>\n",
       "      <td>0</td>\n",
       "      <td>1</td>\n",
       "      <td>0</td>\n",
       "      <td>1</td>\n",
       "      <td>0.500000</td>\n",
       "      <td>0.0</td>\n",
       "      <td>0.500000</td>\n",
       "      <td>...</td>\n",
       "      <td>14</td>\n",
       "      <td>0</td>\n",
       "      <td>0</td>\n",
       "      <td>781.0</td>\n",
       "      <td>19668</td>\n",
       "      <td>1.0</td>\n",
       "      <td>7.0</td>\n",
       "      <td>0</td>\n",
       "      <td>0.0</td>\n",
       "      <td>0.000000</td>\n",
       "    </tr>\n",
       "    <tr>\n",
       "      <th>2</th>\n",
       "      <td>0</td>\n",
       "      <td>16933</td>\n",
       "      <td>1</td>\n",
       "      <td>0</td>\n",
       "      <td>1</td>\n",
       "      <td>0</td>\n",
       "      <td>1</td>\n",
       "      <td>1.000000</td>\n",
       "      <td>0.0</td>\n",
       "      <td>1.000000</td>\n",
       "      <td>...</td>\n",
       "      <td>34</td>\n",
       "      <td>5</td>\n",
       "      <td>0</td>\n",
       "      <td>9867.0</td>\n",
       "      <td>7509</td>\n",
       "      <td>11.0</td>\n",
       "      <td>9.0</td>\n",
       "      <td>0</td>\n",
       "      <td>0.0</td>\n",
       "      <td>0.000000</td>\n",
       "    </tr>\n",
       "    <tr>\n",
       "      <th>3</th>\n",
       "      <td>0</td>\n",
       "      <td>17494</td>\n",
       "      <td>1</td>\n",
       "      <td>0</td>\n",
       "      <td>1</td>\n",
       "      <td>1</td>\n",
       "      <td>1</td>\n",
       "      <td>1.000000</td>\n",
       "      <td>0.0</td>\n",
       "      <td>1.000000</td>\n",
       "      <td>...</td>\n",
       "      <td>21</td>\n",
       "      <td>0</td>\n",
       "      <td>0</td>\n",
       "      <td>60436.0</td>\n",
       "      <td>25489</td>\n",
       "      <td>15.0</td>\n",
       "      <td>7.0</td>\n",
       "      <td>0</td>\n",
       "      <td>18.0</td>\n",
       "      <td>104.116667</td>\n",
       "    </tr>\n",
       "    <tr>\n",
       "      <th>4</th>\n",
       "      <td>0</td>\n",
       "      <td>25954</td>\n",
       "      <td>2</td>\n",
       "      <td>0</td>\n",
       "      <td>2</td>\n",
       "      <td>0</td>\n",
       "      <td>2</td>\n",
       "      <td>0.666667</td>\n",
       "      <td>0.0</td>\n",
       "      <td>0.666667</td>\n",
       "      <td>...</td>\n",
       "      <td>37</td>\n",
       "      <td>23</td>\n",
       "      <td>0</td>\n",
       "      <td>11992.0</td>\n",
       "      <td>1688</td>\n",
       "      <td>1.0</td>\n",
       "      <td>7.0</td>\n",
       "      <td>0</td>\n",
       "      <td>0.0</td>\n",
       "      <td>0.000000</td>\n",
       "    </tr>\n",
       "  </tbody>\n",
       "</table>\n",
       "<p>5 rows × 138 columns</p>\n",
       "</div>"
      ],
      "text/plain": [
       "   rel   quid  covered_query_term_number_body  \\\n",
       "0    0  12895                               1   \n",
       "1    0   2776                               1   \n",
       "2    0  16933                               1   \n",
       "3    0  17494                               1   \n",
       "4    0  25954                               2   \n",
       "\n",
       "   covered_query_term_number_anchor  covered_query_term_number_title  \\\n",
       "0                                 0                                1   \n",
       "1                                 0                                1   \n",
       "2                                 0                                1   \n",
       "3                                 0                                1   \n",
       "4                                 0                                2   \n",
       "\n",
       "   covered_query_term_number_url  covered_query_term_number_whole_document  \\\n",
       "0                              0                                         1   \n",
       "1                              0                                         1   \n",
       "2                              0                                         1   \n",
       "3                              1                                         1   \n",
       "4                              0                                         2   \n",
       "\n",
       "   covered_query_term_ratio_body  covered_query_term_ratio_anchor  \\\n",
       "0                       0.500000                              0.0   \n",
       "1                       0.500000                              0.0   \n",
       "2                       1.000000                              0.0   \n",
       "3                       1.000000                              0.0   \n",
       "4                       0.666667                              0.0   \n",
       "\n",
       "   covered_query_term_ratio_title  ...  Length_of_URL_  Inlink_number_  \\\n",
       "0                        0.500000  ...              35              21   \n",
       "1                        0.500000  ...              14               0   \n",
       "2                        1.000000  ...              34               5   \n",
       "3                        1.000000  ...              21               0   \n",
       "4                        0.666667  ...              37              23   \n",
       "\n",
       "   Outlink_number_  PageRank_  SiteRank  QualityScore  QualityScore2  \\\n",
       "0                5      575.0     65535           6.0           14.0   \n",
       "1                0      781.0     19668           1.0            7.0   \n",
       "2                0     9867.0      7509          11.0            9.0   \n",
       "3                0    60436.0     25489          15.0            7.0   \n",
       "4                0    11992.0      1688           1.0            7.0   \n",
       "\n",
       "   Query-url_click_count  url_click_count  url_dwell_time  \n",
       "0                      0              0.0        0.000000  \n",
       "1                      0              0.0        0.000000  \n",
       "2                      0              0.0        0.000000  \n",
       "3                      0             18.0      104.116667  \n",
       "4                      0              0.0        0.000000  \n",
       "\n",
       "[5 rows x 138 columns]"
      ]
     },
     "execution_count": 132,
     "metadata": {},
     "output_type": "execute_result"
    }
   ],
   "source": [
    "train_sample.head()"
   ]
  },
  {
   "cell_type": "code",
   "execution_count": 133,
   "metadata": {
    "ExecuteTime": {
     "end_time": "2021-08-08T16:30:46.786332Z",
     "start_time": "2021-08-08T16:30:46.780187Z"
    }
   },
   "outputs": [
    {
     "data": {
      "text/plain": [
       "0    26643\n",
       "1    26643\n",
       "2    26643\n",
       "3    26643\n",
       "4    26643\n",
       "Name: rel, dtype: int64"
      ]
     },
     "execution_count": 133,
     "metadata": {},
     "output_type": "execute_result"
    }
   ],
   "source": [
    "train_sample['rel'].value_counts()"
   ]
  },
  {
   "cell_type": "code",
   "execution_count": 134,
   "metadata": {
    "ExecuteTime": {
     "end_time": "2021-08-08T16:30:47.898579Z",
     "start_time": "2021-08-08T16:30:47.893333Z"
    }
   },
   "outputs": [
    {
     "data": {
      "text/plain": [
       "0    8881\n",
       "1    8881\n",
       "2    8881\n",
       "3    8881\n",
       "4    8881\n",
       "Name: rel, dtype: int64"
      ]
     },
     "execution_count": 134,
     "metadata": {},
     "output_type": "execute_result"
    }
   ],
   "source": [
    "val_sample['rel'].value_counts()"
   ]
  },
  {
   "cell_type": "code",
   "execution_count": 135,
   "metadata": {
    "ExecuteTime": {
     "end_time": "2021-08-08T16:30:48.209360Z",
     "start_time": "2021-08-08T16:30:48.205548Z"
    }
   },
   "outputs": [
    {
     "data": {
      "text/plain": [
       "((133215, 138), (44405, 138))"
      ]
     },
     "execution_count": 135,
     "metadata": {},
     "output_type": "execute_result"
    }
   ],
   "source": [
    "train_sample.shape, val_sample.shape"
   ]
  },
  {
   "cell_type": "markdown",
   "metadata": {},
   "source": [
    "##### Transforming sub-objectives to same scale as primary objective(0 to 4)"
   ]
  },
  {
   "cell_type": "code",
   "execution_count": 136,
   "metadata": {
    "ExecuteTime": {
     "end_time": "2021-08-08T16:30:50.567151Z",
     "start_time": "2021-08-08T16:30:50.562987Z"
    }
   },
   "outputs": [
    {
     "data": {
      "text/plain": [
       "('QualityScore',\n",
       " 'QualityScore2',\n",
       " 'PageRank_',\n",
       " 'url_click_count',\n",
       " 'url_dwell_time')"
      ]
     },
     "execution_count": 136,
     "metadata": {},
     "output_type": "execute_result"
    }
   ],
   "source": [
    "col_names[131], col_names[132], col_names[129], col_names[134], col_names[135]"
   ]
  },
  {
   "cell_type": "code",
   "execution_count": 137,
   "metadata": {
    "ExecuteTime": {
     "end_time": "2021-08-08T16:30:51.507882Z",
     "start_time": "2021-08-08T16:30:51.505273Z"
    }
   },
   "outputs": [],
   "source": [
    "# QualityScore (QS), QualityScore2 (QS2), PageRank (PR), UrlClick (UC) and UrlDwellTime (UDT)\n",
    "objective_cols = ['QualityScore', 'QualityScore2',\\\n",
    "                  'PageRank_', 'url_click_count', 'url_dwell_time']"
   ]
  },
  {
   "cell_type": "code",
   "execution_count": 138,
   "metadata": {
    "ExecuteTime": {
     "end_time": "2021-08-08T16:30:51.719800Z",
     "start_time": "2021-08-08T16:30:51.716455Z"
    }
   },
   "outputs": [],
   "source": [
    "def normalize_objectives(feature, a, b):\n",
    "    maxi = feature.max()\n",
    "    mini = feature.min()\n",
    "    norm_feature = ( (b - a) * (feature - mini) / (maxi - mini) ) + a\n",
    "    return norm_feature"
   ]
  },
  {
   "cell_type": "code",
   "execution_count": 139,
   "metadata": {
    "ExecuteTime": {
     "end_time": "2021-08-08T16:30:52.684454Z",
     "start_time": "2021-08-08T16:30:52.658375Z"
    }
   },
   "outputs": [],
   "source": [
    "for col in objective_cols:\n",
    "    train_sample[col] = normalize_objectives(train_sample[col], 0, 4)\n",
    "    val_sample[col] = normalize_objectives(val_sample[col], 0, 4)"
   ]
  },
  {
   "cell_type": "code",
   "execution_count": 140,
   "metadata": {
    "ExecuteTime": {
     "end_time": "2021-08-08T16:30:54.241077Z",
     "start_time": "2021-08-08T16:30:54.220139Z"
    }
   },
   "outputs": [
    {
     "data": {
      "text/html": [
       "<div>\n",
       "<style scoped>\n",
       "    .dataframe tbody tr th:only-of-type {\n",
       "        vertical-align: middle;\n",
       "    }\n",
       "\n",
       "    .dataframe tbody tr th {\n",
       "        vertical-align: top;\n",
       "    }\n",
       "\n",
       "    .dataframe thead th {\n",
       "        text-align: right;\n",
       "    }\n",
       "</style>\n",
       "<table border=\"1\" class=\"dataframe\">\n",
       "  <thead>\n",
       "    <tr style=\"text-align: right;\">\n",
       "      <th></th>\n",
       "      <th>rel</th>\n",
       "      <th>quid</th>\n",
       "      <th>covered_query_term_number_body</th>\n",
       "      <th>covered_query_term_number_anchor</th>\n",
       "      <th>covered_query_term_number_title</th>\n",
       "      <th>covered_query_term_number_url</th>\n",
       "      <th>covered_query_term_number_whole_document</th>\n",
       "      <th>covered_query_term_ratio_body</th>\n",
       "      <th>covered_query_term_ratio_anchor</th>\n",
       "      <th>covered_query_term_ratio_title</th>\n",
       "      <th>...</th>\n",
       "      <th>Length_of_URL_</th>\n",
       "      <th>Inlink_number_</th>\n",
       "      <th>Outlink_number_</th>\n",
       "      <th>PageRank_</th>\n",
       "      <th>SiteRank</th>\n",
       "      <th>QualityScore</th>\n",
       "      <th>QualityScore2</th>\n",
       "      <th>Query-url_click_count</th>\n",
       "      <th>url_click_count</th>\n",
       "      <th>url_dwell_time</th>\n",
       "    </tr>\n",
       "  </thead>\n",
       "  <tbody>\n",
       "    <tr>\n",
       "      <th>0</th>\n",
       "      <td>0</td>\n",
       "      <td>12895</td>\n",
       "      <td>1</td>\n",
       "      <td>0</td>\n",
       "      <td>1</td>\n",
       "      <td>0</td>\n",
       "      <td>1</td>\n",
       "      <td>0.500000</td>\n",
       "      <td>0.0</td>\n",
       "      <td>0.500000</td>\n",
       "      <td>...</td>\n",
       "      <td>35</td>\n",
       "      <td>21</td>\n",
       "      <td>5</td>\n",
       "      <td>0.028551</td>\n",
       "      <td>65535</td>\n",
       "      <td>0.079051</td>\n",
       "      <td>0.220472</td>\n",
       "      <td>0</td>\n",
       "      <td>0.000000</td>\n",
       "      <td>0.000000e+00</td>\n",
       "    </tr>\n",
       "    <tr>\n",
       "      <th>1</th>\n",
       "      <td>0</td>\n",
       "      <td>2776</td>\n",
       "      <td>1</td>\n",
       "      <td>0</td>\n",
       "      <td>1</td>\n",
       "      <td>0</td>\n",
       "      <td>1</td>\n",
       "      <td>0.500000</td>\n",
       "      <td>0.0</td>\n",
       "      <td>0.500000</td>\n",
       "      <td>...</td>\n",
       "      <td>14</td>\n",
       "      <td>0</td>\n",
       "      <td>0</td>\n",
       "      <td>0.041146</td>\n",
       "      <td>19668</td>\n",
       "      <td>0.000000</td>\n",
       "      <td>0.110236</td>\n",
       "      <td>0</td>\n",
       "      <td>0.000000</td>\n",
       "      <td>0.000000e+00</td>\n",
       "    </tr>\n",
       "    <tr>\n",
       "      <th>2</th>\n",
       "      <td>0</td>\n",
       "      <td>16933</td>\n",
       "      <td>1</td>\n",
       "      <td>0</td>\n",
       "      <td>1</td>\n",
       "      <td>0</td>\n",
       "      <td>1</td>\n",
       "      <td>1.000000</td>\n",
       "      <td>0.0</td>\n",
       "      <td>1.000000</td>\n",
       "      <td>...</td>\n",
       "      <td>34</td>\n",
       "      <td>5</td>\n",
       "      <td>0</td>\n",
       "      <td>0.596644</td>\n",
       "      <td>7509</td>\n",
       "      <td>0.158103</td>\n",
       "      <td>0.141732</td>\n",
       "      <td>0</td>\n",
       "      <td>0.000000</td>\n",
       "      <td>0.000000e+00</td>\n",
       "    </tr>\n",
       "    <tr>\n",
       "      <th>3</th>\n",
       "      <td>0</td>\n",
       "      <td>17494</td>\n",
       "      <td>1</td>\n",
       "      <td>0</td>\n",
       "      <td>1</td>\n",
       "      <td>1</td>\n",
       "      <td>1</td>\n",
       "      <td>1.000000</td>\n",
       "      <td>0.0</td>\n",
       "      <td>1.000000</td>\n",
       "      <td>...</td>\n",
       "      <td>21</td>\n",
       "      <td>0</td>\n",
       "      <td>0</td>\n",
       "      <td>3.688320</td>\n",
       "      <td>25489</td>\n",
       "      <td>0.221344</td>\n",
       "      <td>0.110236</td>\n",
       "      <td>0</td>\n",
       "      <td>0.000026</td>\n",
       "      <td>5.017671e-07</td>\n",
       "    </tr>\n",
       "    <tr>\n",
       "      <th>4</th>\n",
       "      <td>0</td>\n",
       "      <td>25954</td>\n",
       "      <td>2</td>\n",
       "      <td>0</td>\n",
       "      <td>2</td>\n",
       "      <td>0</td>\n",
       "      <td>2</td>\n",
       "      <td>0.666667</td>\n",
       "      <td>0.0</td>\n",
       "      <td>0.666667</td>\n",
       "      <td>...</td>\n",
       "      <td>37</td>\n",
       "      <td>23</td>\n",
       "      <td>0</td>\n",
       "      <td>0.726561</td>\n",
       "      <td>1688</td>\n",
       "      <td>0.000000</td>\n",
       "      <td>0.110236</td>\n",
       "      <td>0</td>\n",
       "      <td>0.000000</td>\n",
       "      <td>0.000000e+00</td>\n",
       "    </tr>\n",
       "  </tbody>\n",
       "</table>\n",
       "<p>5 rows × 138 columns</p>\n",
       "</div>"
      ],
      "text/plain": [
       "   rel   quid  covered_query_term_number_body  \\\n",
       "0    0  12895                               1   \n",
       "1    0   2776                               1   \n",
       "2    0  16933                               1   \n",
       "3    0  17494                               1   \n",
       "4    0  25954                               2   \n",
       "\n",
       "   covered_query_term_number_anchor  covered_query_term_number_title  \\\n",
       "0                                 0                                1   \n",
       "1                                 0                                1   \n",
       "2                                 0                                1   \n",
       "3                                 0                                1   \n",
       "4                                 0                                2   \n",
       "\n",
       "   covered_query_term_number_url  covered_query_term_number_whole_document  \\\n",
       "0                              0                                         1   \n",
       "1                              0                                         1   \n",
       "2                              0                                         1   \n",
       "3                              1                                         1   \n",
       "4                              0                                         2   \n",
       "\n",
       "   covered_query_term_ratio_body  covered_query_term_ratio_anchor  \\\n",
       "0                       0.500000                              0.0   \n",
       "1                       0.500000                              0.0   \n",
       "2                       1.000000                              0.0   \n",
       "3                       1.000000                              0.0   \n",
       "4                       0.666667                              0.0   \n",
       "\n",
       "   covered_query_term_ratio_title  ...  Length_of_URL_  Inlink_number_  \\\n",
       "0                        0.500000  ...              35              21   \n",
       "1                        0.500000  ...              14               0   \n",
       "2                        1.000000  ...              34               5   \n",
       "3                        1.000000  ...              21               0   \n",
       "4                        0.666667  ...              37              23   \n",
       "\n",
       "   Outlink_number_  PageRank_  SiteRank  QualityScore  QualityScore2  \\\n",
       "0                5   0.028551     65535      0.079051       0.220472   \n",
       "1                0   0.041146     19668      0.000000       0.110236   \n",
       "2                0   0.596644      7509      0.158103       0.141732   \n",
       "3                0   3.688320     25489      0.221344       0.110236   \n",
       "4                0   0.726561      1688      0.000000       0.110236   \n",
       "\n",
       "   Query-url_click_count  url_click_count  url_dwell_time  \n",
       "0                      0         0.000000    0.000000e+00  \n",
       "1                      0         0.000000    0.000000e+00  \n",
       "2                      0         0.000000    0.000000e+00  \n",
       "3                      0         0.000026    5.017671e-07  \n",
       "4                      0         0.000000    0.000000e+00  \n",
       "\n",
       "[5 rows x 138 columns]"
      ]
     },
     "execution_count": 140,
     "metadata": {},
     "output_type": "execute_result"
    }
   ],
   "source": [
    "train_sample.head()"
   ]
  },
  {
   "cell_type": "code",
   "execution_count": 141,
   "metadata": {
    "ExecuteTime": {
     "end_time": "2021-08-08T16:30:55.884041Z",
     "start_time": "2021-08-08T16:30:55.862675Z"
    }
   },
   "outputs": [
    {
     "data": {
      "text/html": [
       "<div>\n",
       "<style scoped>\n",
       "    .dataframe tbody tr th:only-of-type {\n",
       "        vertical-align: middle;\n",
       "    }\n",
       "\n",
       "    .dataframe tbody tr th {\n",
       "        vertical-align: top;\n",
       "    }\n",
       "\n",
       "    .dataframe thead th {\n",
       "        text-align: right;\n",
       "    }\n",
       "</style>\n",
       "<table border=\"1\" class=\"dataframe\">\n",
       "  <thead>\n",
       "    <tr style=\"text-align: right;\">\n",
       "      <th></th>\n",
       "      <th>rel</th>\n",
       "      <th>quid</th>\n",
       "      <th>covered_query_term_number_body</th>\n",
       "      <th>covered_query_term_number_anchor</th>\n",
       "      <th>covered_query_term_number_title</th>\n",
       "      <th>covered_query_term_number_url</th>\n",
       "      <th>covered_query_term_number_whole_document</th>\n",
       "      <th>covered_query_term_ratio_body</th>\n",
       "      <th>covered_query_term_ratio_anchor</th>\n",
       "      <th>covered_query_term_ratio_title</th>\n",
       "      <th>...</th>\n",
       "      <th>Length_of_URL_</th>\n",
       "      <th>Inlink_number_</th>\n",
       "      <th>Outlink_number_</th>\n",
       "      <th>PageRank_</th>\n",
       "      <th>SiteRank</th>\n",
       "      <th>QualityScore</th>\n",
       "      <th>QualityScore2</th>\n",
       "      <th>Query-url_click_count</th>\n",
       "      <th>url_click_count</th>\n",
       "      <th>url_dwell_time</th>\n",
       "    </tr>\n",
       "  </thead>\n",
       "  <tbody>\n",
       "    <tr>\n",
       "      <th>0</th>\n",
       "      <td>0</td>\n",
       "      <td>3343</td>\n",
       "      <td>6</td>\n",
       "      <td>0</td>\n",
       "      <td>4</td>\n",
       "      <td>1</td>\n",
       "      <td>6</td>\n",
       "      <td>1.0</td>\n",
       "      <td>0.0</td>\n",
       "      <td>0.666667</td>\n",
       "      <td>...</td>\n",
       "      <td>54</td>\n",
       "      <td>0</td>\n",
       "      <td>0</td>\n",
       "      <td>0.094751</td>\n",
       "      <td>56219</td>\n",
       "      <td>0.000000</td>\n",
       "      <td>0.031873</td>\n",
       "      <td>0</td>\n",
       "      <td>0.000000</td>\n",
       "      <td>0.000000e+00</td>\n",
       "    </tr>\n",
       "    <tr>\n",
       "      <th>1</th>\n",
       "      <td>0</td>\n",
       "      <td>28036</td>\n",
       "      <td>0</td>\n",
       "      <td>0</td>\n",
       "      <td>0</td>\n",
       "      <td>1</td>\n",
       "      <td>1</td>\n",
       "      <td>0.0</td>\n",
       "      <td>0.0</td>\n",
       "      <td>0.000000</td>\n",
       "      <td>...</td>\n",
       "      <td>24</td>\n",
       "      <td>0</td>\n",
       "      <td>0</td>\n",
       "      <td>0.003301</td>\n",
       "      <td>26887</td>\n",
       "      <td>0.000000</td>\n",
       "      <td>0.446215</td>\n",
       "      <td>0</td>\n",
       "      <td>0.000000</td>\n",
       "      <td>0.000000e+00</td>\n",
       "    </tr>\n",
       "    <tr>\n",
       "      <th>2</th>\n",
       "      <td>0</td>\n",
       "      <td>1477</td>\n",
       "      <td>0</td>\n",
       "      <td>0</td>\n",
       "      <td>0</td>\n",
       "      <td>0</td>\n",
       "      <td>0</td>\n",
       "      <td>0.0</td>\n",
       "      <td>0.0</td>\n",
       "      <td>0.000000</td>\n",
       "      <td>...</td>\n",
       "      <td>19</td>\n",
       "      <td>0</td>\n",
       "      <td>0</td>\n",
       "      <td>2.302193</td>\n",
       "      <td>4708</td>\n",
       "      <td>0.505929</td>\n",
       "      <td>0.191235</td>\n",
       "      <td>0</td>\n",
       "      <td>0.000000</td>\n",
       "      <td>0.000000e+00</td>\n",
       "    </tr>\n",
       "    <tr>\n",
       "      <th>3</th>\n",
       "      <td>0</td>\n",
       "      <td>26605</td>\n",
       "      <td>3</td>\n",
       "      <td>0</td>\n",
       "      <td>1</td>\n",
       "      <td>0</td>\n",
       "      <td>3</td>\n",
       "      <td>1.0</td>\n",
       "      <td>0.0</td>\n",
       "      <td>0.333333</td>\n",
       "      <td>...</td>\n",
       "      <td>32</td>\n",
       "      <td>3</td>\n",
       "      <td>1</td>\n",
       "      <td>0.007458</td>\n",
       "      <td>26536</td>\n",
       "      <td>1.359684</td>\n",
       "      <td>2.629482</td>\n",
       "      <td>0</td>\n",
       "      <td>0.000004</td>\n",
       "      <td>5.166667e-08</td>\n",
       "    </tr>\n",
       "    <tr>\n",
       "      <th>4</th>\n",
       "      <td>0</td>\n",
       "      <td>7</td>\n",
       "      <td>3</td>\n",
       "      <td>0</td>\n",
       "      <td>0</td>\n",
       "      <td>0</td>\n",
       "      <td>3</td>\n",
       "      <td>1.0</td>\n",
       "      <td>0.0</td>\n",
       "      <td>0.000000</td>\n",
       "      <td>...</td>\n",
       "      <td>30</td>\n",
       "      <td>106067</td>\n",
       "      <td>0</td>\n",
       "      <td>3.879514</td>\n",
       "      <td>51486</td>\n",
       "      <td>0.000000</td>\n",
       "      <td>0.047809</td>\n",
       "      <td>0</td>\n",
       "      <td>0.000013</td>\n",
       "      <td>1.132917e-07</td>\n",
       "    </tr>\n",
       "  </tbody>\n",
       "</table>\n",
       "<p>5 rows × 138 columns</p>\n",
       "</div>"
      ],
      "text/plain": [
       "   rel   quid  covered_query_term_number_body  \\\n",
       "0    0   3343                               6   \n",
       "1    0  28036                               0   \n",
       "2    0   1477                               0   \n",
       "3    0  26605                               3   \n",
       "4    0      7                               3   \n",
       "\n",
       "   covered_query_term_number_anchor  covered_query_term_number_title  \\\n",
       "0                                 0                                4   \n",
       "1                                 0                                0   \n",
       "2                                 0                                0   \n",
       "3                                 0                                1   \n",
       "4                                 0                                0   \n",
       "\n",
       "   covered_query_term_number_url  covered_query_term_number_whole_document  \\\n",
       "0                              1                                         6   \n",
       "1                              1                                         1   \n",
       "2                              0                                         0   \n",
       "3                              0                                         3   \n",
       "4                              0                                         3   \n",
       "\n",
       "   covered_query_term_ratio_body  covered_query_term_ratio_anchor  \\\n",
       "0                            1.0                              0.0   \n",
       "1                            0.0                              0.0   \n",
       "2                            0.0                              0.0   \n",
       "3                            1.0                              0.0   \n",
       "4                            1.0                              0.0   \n",
       "\n",
       "   covered_query_term_ratio_title  ...  Length_of_URL_  Inlink_number_  \\\n",
       "0                        0.666667  ...              54               0   \n",
       "1                        0.000000  ...              24               0   \n",
       "2                        0.000000  ...              19               0   \n",
       "3                        0.333333  ...              32               3   \n",
       "4                        0.000000  ...              30          106067   \n",
       "\n",
       "   Outlink_number_  PageRank_  SiteRank  QualityScore  QualityScore2  \\\n",
       "0                0   0.094751     56219      0.000000       0.031873   \n",
       "1                0   0.003301     26887      0.000000       0.446215   \n",
       "2                0   2.302193      4708      0.505929       0.191235   \n",
       "3                1   0.007458     26536      1.359684       2.629482   \n",
       "4                0   3.879514     51486      0.000000       0.047809   \n",
       "\n",
       "   Query-url_click_count  url_click_count  url_dwell_time  \n",
       "0                      0         0.000000    0.000000e+00  \n",
       "1                      0         0.000000    0.000000e+00  \n",
       "2                      0         0.000000    0.000000e+00  \n",
       "3                      0         0.000004    5.166667e-08  \n",
       "4                      0         0.000013    1.132917e-07  \n",
       "\n",
       "[5 rows x 138 columns]"
      ]
     },
     "execution_count": 141,
     "metadata": {},
     "output_type": "execute_result"
    }
   ],
   "source": [
    "val_sample.head()"
   ]
  },
  {
   "cell_type": "markdown",
   "metadata": {},
   "source": [
    "#### Run Unconstrained GBT Regressor"
   ]
  },
  {
   "cell_type": "code",
   "execution_count": 142,
   "metadata": {
    "ExecuteTime": {
     "end_time": "2021-08-08T16:31:01.971878Z",
     "start_time": "2021-08-08T16:31:01.967769Z"
    }
   },
   "outputs": [
    {
     "data": {
      "text/plain": [
       "136"
      ]
     },
     "execution_count": 142,
     "metadata": {},
     "output_type": "execute_result"
    }
   ],
   "source": [
    "features = train_sample.columns[2:]\n",
    "target = 'rel'\n",
    "len(features)"
   ]
  },
  {
   "cell_type": "code",
   "execution_count": 152,
   "metadata": {
    "ExecuteTime": {
     "end_time": "2021-08-08T16:34:33.024390Z",
     "start_time": "2021-08-08T16:31:28.442943Z"
    }
   },
   "outputs": [
    {
     "name": "stdout",
     "output_type": "stream",
     "text": [
      "      Iter       Train Loss   Remaining Time \n",
      "         1           1.9426            3.35m\n",
      "         2           1.8955            3.38m\n",
      "         3           1.8545            3.26m\n",
      "         4           1.8119            3.16m\n",
      "         5           1.7794            3.09m\n",
      "         6           1.7470            3.03m\n",
      "         7           1.7202            2.98m\n",
      "         8           1.6970            2.93m\n",
      "         9           1.6746            2.89m\n",
      "        10           1.6520            2.85m\n",
      "        11           1.6353            2.82m\n",
      "        12           1.6186            2.78m\n",
      "        13           1.6003            2.74m\n",
      "        14           1.5830            2.71m\n",
      "        15           1.5705            2.67m\n",
      "        16           1.5574            2.64m\n",
      "        17           1.5458            2.61m\n",
      "        18           1.5328            2.57m\n",
      "        19           1.5206            2.54m\n",
      "        20           1.5126            2.51m\n",
      "        21           1.5039            2.47m\n",
      "        22           1.4947            2.44m\n",
      "        23           1.4866            2.41m\n",
      "        24           1.4789            2.38m\n",
      "        25           1.4731            2.34m\n",
      "        26           1.4675            2.31m\n",
      "        27           1.4597            2.28m\n",
      "        28           1.4540            2.25m\n",
      "        29           1.4491            2.21m\n",
      "        30           1.4406            2.18m\n",
      "        31           1.4333            2.15m\n",
      "        32           1.4281            2.12m\n",
      "        33           1.4244            2.08m\n",
      "        34           1.4207            2.05m\n",
      "        35           1.4174            2.02m\n",
      "        36           1.4133            1.99m\n",
      "        37           1.4087            1.96m\n",
      "        38           1.4040            1.93m\n",
      "        39           1.4004            1.89m\n",
      "        40           1.3961            1.86m\n",
      "        41           1.3928            1.83m\n",
      "        42           1.3902            1.80m\n",
      "        43           1.3862            1.77m\n",
      "        44           1.3826            1.74m\n",
      "        45           1.3787            1.71m\n",
      "        46           1.3760            1.68m\n",
      "        47           1.3725            1.64m\n",
      "        48           1.3709            1.61m\n",
      "        49           1.3676            1.58m\n",
      "        50           1.3654            1.55m\n",
      "        51           1.3635            1.52m\n",
      "        52           1.3612            1.49m\n",
      "        53           1.3587            1.46m\n",
      "        54           1.3569            1.42m\n",
      "        55           1.3540            1.39m\n",
      "        56           1.3512            1.36m\n",
      "        57           1.3490            1.33m\n",
      "        58           1.3473            1.30m\n",
      "        59           1.3461            1.27m\n",
      "        60           1.3440            1.24m\n",
      "        61           1.3414            1.21m\n",
      "        62           1.3392            1.17m\n",
      "        63           1.3373            1.14m\n",
      "        64           1.3357            1.11m\n",
      "        65           1.3339            1.08m\n",
      "        66           1.3326            1.05m\n",
      "        67           1.3316            1.02m\n",
      "        68           1.3291           59.20s\n",
      "        69           1.3273           57.35s\n",
      "        70           1.3260           55.50s\n",
      "        71           1.3238           53.64s\n",
      "        72           1.3227           51.78s\n",
      "        73           1.3212           49.93s\n",
      "        74           1.3200           48.07s\n",
      "        75           1.3189           46.22s\n",
      "        76           1.3179           44.38s\n",
      "        77           1.3171           42.52s\n",
      "        78           1.3160           40.65s\n",
      "        79           1.3145           38.80s\n",
      "        80           1.3136           36.95s\n",
      "        81           1.3127           35.09s\n",
      "        82           1.3115           33.23s\n",
      "        83           1.3102           31.38s\n",
      "        84           1.3093           29.53s\n",
      "        85           1.3069           27.69s\n",
      "        86           1.3050           25.85s\n",
      "        87           1.3041           23.99s\n",
      "        88           1.3032           22.15s\n",
      "        89           1.3020           20.30s\n",
      "        90           1.3000           18.46s\n",
      "        91           1.2990           16.61s\n",
      "        92           1.2980           14.76s\n",
      "        93           1.2971           12.92s\n",
      "        94           1.2964           11.07s\n",
      "        95           1.2957            9.22s\n",
      "        96           1.2950            7.38s\n",
      "        97           1.2942            5.53s\n",
      "        98           1.2928            3.69s\n",
      "        99           1.2922            1.84s\n",
      "       100           1.2910            0.00s\n"
     ]
    },
    {
     "data": {
      "text/plain": [
       "MooGBTRegressor(alpha=0.9, ccp_alpha=0.0, constraints=[],\n",
       "                criterion='friedman_mse', init=None, learning_rate=0.1,\n",
       "                loss='ls', max_depth=3, max_features=None, max_leaf_nodes=None,\n",
       "                min_impurity_decrease=0.0, min_impurity_split=None,\n",
       "                min_samples_leaf=1, min_samples_split=2,\n",
       "                min_weight_fraction_leaf=0.0, n_estimators=100,\n",
       "                n_iter_no_change=None, random_state=2021, subsample=1.0,\n",
       "                tol=0.0001, validation_fraction=0.1, verbose=10,\n",
       "                warm_start=False)"
      ]
     },
     "execution_count": 152,
     "metadata": {},
     "output_type": "execute_result"
    }
   ],
   "source": [
    "unconstrained_gbt = MooGBTRegressor(\n",
    "                        loss='ls',\n",
    "                        verbose=10,\n",
    "                        random_state=2021\n",
    ")\n",
    "\n",
    "unconstrained_gbt.fit(train_sample[features].values, train_sample[target].values)"
   ]
  },
  {
   "cell_type": "code",
   "execution_count": 153,
   "metadata": {
    "ExecuteTime": {
     "end_time": "2021-08-08T16:34:33.042673Z",
     "start_time": "2021-08-08T16:34:33.026455Z"
    }
   },
   "outputs": [
    {
     "data": {
      "text/plain": [
       "['unconstrained_gbt.pkl']"
      ]
     },
     "execution_count": 153,
     "metadata": {},
     "output_type": "execute_result"
    }
   ],
   "source": [
    "# save\n",
    "joblib.dump(unconstrained_gbt, \"unconstrained_gbt.pkl\") "
   ]
  },
  {
   "cell_type": "code",
   "execution_count": 33,
   "metadata": {
    "ExecuteTime": {
     "end_time": "2021-08-04T08:41:08.428682Z",
     "start_time": "2021-08-04T08:41:08.426712Z"
    }
   },
   "outputs": [],
   "source": [
    "# unconstrained_gbt = joblib.load(\"unconstrained_gbt.pkl\")"
   ]
  },
  {
   "cell_type": "code",
   "execution_count": 159,
   "metadata": {
    "ExecuteTime": {
     "end_time": "2021-08-08T16:53:42.545225Z",
     "start_time": "2021-08-08T16:53:42.538918Z"
    }
   },
   "outputs": [],
   "source": [
    "def evaluate_results(y_pred, y_true):\n",
    "    mae = mean_absolute_error(y_true, y_pred)\n",
    "    mse = mean_squared_error(y_true, y_pred)\n",
    "    rmse = math.sqrt(mean_squared_error(y_true, y_pred))\n",
    "    r2 = r2_score(y_true, y_pred)\n",
    "    \n",
    "    n = y_pred.shape[0]\n",
    "    k = len(features)\n",
    "    adj_r2 = 1 - ((1-r2)*(n-1)/(n-k-1))\n",
    "    \n",
    "    print (f\"Mean Absolute Error - {mae}\")    \n",
    "    print(f\"Mean Squared Error - {mse}\")\n",
    "    print(f\"Root Mean Squared Error - {rmse}\")\n",
    "    print (f\"r2 - {r2}\")\n",
    "    print (f\"adjusted r2 - {adj_r2}\")"
   ]
  },
  {
   "cell_type": "code",
   "execution_count": 160,
   "metadata": {
    "ExecuteTime": {
     "end_time": "2021-08-08T16:53:43.706099Z",
     "start_time": "2021-08-08T16:53:43.699945Z"
    }
   },
   "outputs": [
    {
     "data": {
      "text/plain": [
       "(136,)"
      ]
     },
     "execution_count": 160,
     "metadata": {},
     "output_type": "execute_result"
    }
   ],
   "source": [
    "unconstrained_gbt.feature_importances_.shape"
   ]
  },
  {
   "cell_type": "code",
   "execution_count": 161,
   "metadata": {
    "ExecuteTime": {
     "end_time": "2021-08-08T16:53:44.013541Z",
     "start_time": "2021-08-08T16:53:43.998062Z"
    }
   },
   "outputs": [
    {
     "data": {
      "text/html": [
       "<div>\n",
       "<style scoped>\n",
       "    .dataframe tbody tr th:only-of-type {\n",
       "        vertical-align: middle;\n",
       "    }\n",
       "\n",
       "    .dataframe tbody tr th {\n",
       "        vertical-align: top;\n",
       "    }\n",
       "\n",
       "    .dataframe thead th {\n",
       "        text-align: right;\n",
       "    }\n",
       "</style>\n",
       "<table border=\"1\" class=\"dataframe\">\n",
       "  <thead>\n",
       "    <tr style=\"text-align: right;\">\n",
       "      <th></th>\n",
       "      <th>feature</th>\n",
       "      <th>imp</th>\n",
       "    </tr>\n",
       "  </thead>\n",
       "  <tbody>\n",
       "    <tr>\n",
       "      <th>126</th>\n",
       "      <td>Length_of_URL_</td>\n",
       "      <td>12.386268</td>\n",
       "    </tr>\n",
       "    <tr>\n",
       "      <th>130</th>\n",
       "      <td>SiteRank</td>\n",
       "      <td>8.836088</td>\n",
       "    </tr>\n",
       "    <tr>\n",
       "      <th>125</th>\n",
       "      <td>Number_of_slash_in_URL_</td>\n",
       "      <td>8.632618</td>\n",
       "    </tr>\n",
       "    <tr>\n",
       "      <th>129</th>\n",
       "      <td>PageRank_</td>\n",
       "      <td>7.608090</td>\n",
       "    </tr>\n",
       "    <tr>\n",
       "      <th>133</th>\n",
       "      <td>Query-url_click_count</td>\n",
       "      <td>6.712150</td>\n",
       "    </tr>\n",
       "    <tr>\n",
       "      <th>122</th>\n",
       "      <td>LMIR_JM_title</td>\n",
       "      <td>5.629967</td>\n",
       "    </tr>\n",
       "    <tr>\n",
       "      <th>10</th>\n",
       "      <td>stream_length_body</td>\n",
       "      <td>5.620204</td>\n",
       "    </tr>\n",
       "    <tr>\n",
       "      <th>107</th>\n",
       "      <td>BM25_title</td>\n",
       "      <td>4.495601</td>\n",
       "    </tr>\n",
       "    <tr>\n",
       "      <th>14</th>\n",
       "      <td>stream_length_whole_document</td>\n",
       "      <td>4.451666</td>\n",
       "    </tr>\n",
       "    <tr>\n",
       "      <th>128</th>\n",
       "      <td>Outlink_number_</td>\n",
       "      <td>3.804741</td>\n",
       "    </tr>\n",
       "  </tbody>\n",
       "</table>\n",
       "</div>"
      ],
      "text/plain": [
       "                          feature        imp\n",
       "126                Length_of_URL_  12.386268\n",
       "130                      SiteRank   8.836088\n",
       "125       Number_of_slash_in_URL_   8.632618\n",
       "129                     PageRank_   7.608090\n",
       "133         Query-url_click_count   6.712150\n",
       "122                 LMIR_JM_title   5.629967\n",
       "10             stream_length_body   5.620204\n",
       "107                    BM25_title   4.495601\n",
       "14   stream_length_whole_document   4.451666\n",
       "128               Outlink_number_   3.804741"
      ]
     },
     "execution_count": 161,
     "metadata": {},
     "output_type": "execute_result"
    }
   ],
   "source": [
    "fi = pd.DataFrame()\n",
    "fi['feature'] = features\n",
    "fi['imp'] = unconstrained_gbt.feature_importances_\n",
    "fi.sort_values('imp', ascending=False, inplace=True)\n",
    "fi['imp'] = fi['imp']/fi['imp'].sum() * 100\n",
    "fi.head(10)"
   ]
  },
  {
   "cell_type": "code",
   "execution_count": 162,
   "metadata": {
    "ExecuteTime": {
     "end_time": "2021-08-08T16:53:46.127861Z",
     "start_time": "2021-08-08T16:53:44.975209Z"
    }
   },
   "outputs": [
    {
     "name": "stdout",
     "output_type": "stream",
     "text": [
      "Mean Absolute Error - 0.9473443390511643\n",
      "Mean Squared Error - 1.2909994848217443\n",
      "Root Mean Squared Error - 1.1362215826245092\n",
      "r2 - 0.35450025758912784\n",
      "adjusted r2 - 0.35384058457805256\n"
     ]
    }
   ],
   "source": [
    "y_pred_train = unconstrained_gbt.predict(train_sample[features])\n",
    "evaluate_results(y_pred_train, train_sample[target])"
   ]
  },
  {
   "cell_type": "code",
   "execution_count": 163,
   "metadata": {
    "ExecuteTime": {
     "end_time": "2021-08-08T16:53:53.390846Z",
     "start_time": "2021-08-08T16:53:53.108259Z"
    }
   },
   "outputs": [
    {
     "name": "stdout",
     "output_type": "stream",
     "text": [
      "Mean Absolute Error - 0.9464884341875269\n",
      "Mean Squared Error - 1.2940896458083606\n",
      "Root Mean Squared Error - 1.1375806106858364\n",
      "r2 - 0.3529551770958197\n",
      "adjusted r2 - 0.3509673281775273\n"
     ]
    }
   ],
   "source": [
    "y_pred_val = unconstrained_gbt.predict(val_sample[features])\n",
    "evaluate_results(y_pred_val, val_sample[target])"
   ]
  },
  {
   "cell_type": "code",
   "execution_count": 164,
   "metadata": {
    "ExecuteTime": {
     "end_time": "2021-08-08T16:54:59.646248Z",
     "start_time": "2021-08-08T16:54:59.642776Z"
    }
   },
   "outputs": [
    {
     "data": {
      "text/plain": [
       "['QualityScore',\n",
       " 'QualityScore2',\n",
       " 'PageRank_',\n",
       " 'url_click_count',\n",
       " 'url_dwell_time']"
      ]
     },
     "execution_count": 164,
     "metadata": {},
     "output_type": "execute_result"
    }
   ],
   "source": [
    "objective_cols"
   ]
  },
  {
   "cell_type": "code",
   "execution_count": 172,
   "metadata": {
    "ExecuteTime": {
     "end_time": "2021-08-08T17:07:34.747401Z",
     "start_time": "2021-08-08T17:07:34.740572Z"
    }
   },
   "outputs": [
    {
     "name": "stdout",
     "output_type": "stream",
     "text": [
      "3.7423931825914036\n",
      "3.9194414852311503\n",
      "2.031830440012366\n",
      "4.573200403918164\n",
      "4.582939639775838\n"
     ]
    }
   ],
   "source": [
    "for c in objective_cols:\n",
    "    print (f\"{mean_squared_error(y_pred_val, val_sample[c])}\")"
   ]
  },
  {
   "cell_type": "code",
   "execution_count": 169,
   "metadata": {
    "ExecuteTime": {
     "end_time": "2021-08-08T17:06:16.582963Z",
     "start_time": "2021-08-08T17:06:16.573822Z"
    }
   },
   "outputs": [
    {
     "name": "stdout",
     "output_type": "stream",
     "text": [
      "QualityScore, MSE - 3.714828734443458\n",
      "QualityScore2, MSE - 3.8420284625259913\n",
      "PageRank_, MSE - 2.0261372300869214\n",
      "url_click_count, MSE - 4.541796817002684\n",
      "url_dwell_time, MSE - 4.550247139757993\n"
     ]
    }
   ],
   "source": [
    "for c in objective_cols:\n",
    "    print (f\"{c}, MSE - {mean_squared_error(y_pred_train, train_sample[c])}\")"
   ]
  },
  {
   "cell_type": "code",
   "execution_count": 166,
   "metadata": {
    "ExecuteTime": {
     "end_time": "2021-08-08T16:55:19.038032Z",
     "start_time": "2021-08-08T16:55:19.031030Z"
    }
   },
   "outputs": [
    {
     "name": "stdout",
     "output_type": "stream",
     "text": [
      "QualityScore, MSE - 3.7423931825914036\n",
      "QualityScore2, MSE - 3.9194414852311503\n",
      "PageRank_, MSE - 2.031830440012366\n",
      "url_click_count, MSE - 4.573200403918164\n",
      "url_dwell_time, MSE - 4.582939639775838\n"
     ]
    }
   ],
   "source": [
    "for c in objective_cols:\n",
    "    print (f\"{c}, MSE - {mean_squared_error(y_pred_val, val_sample[c])}\")"
   ]
  },
  {
   "cell_type": "code",
   "execution_count": 167,
   "metadata": {
    "ExecuteTime": {
     "end_time": "2021-08-08T16:55:43.868197Z",
     "start_time": "2021-08-08T16:55:43.861514Z"
    }
   },
   "outputs": [
    {
     "name": "stdout",
     "output_type": "stream",
     "text": [
      "QualityScore, RMSE - 1.9345266042604334\n",
      "QualityScore2, RMSE - 1.9797579360192372\n",
      "PageRank_, RMSE - 1.425422898655822\n",
      "url_click_count, RMSE - 2.1385042445406004\n",
      "url_dwell_time, RMSE - 2.1407801474639654\n"
     ]
    }
   ],
   "source": [
    "for c in objective_cols:\n",
    "    print (f\"{c}, RMSE - {math.sqrt(mean_squared_error(y_pred_val, val_sample[c]))}\")"
   ]
  },
  {
   "cell_type": "markdown",
   "metadata": {},
   "source": [
    "#### Constrained Regressor"
   ]
  },
  {
   "cell_type": "code",
   "execution_count": 175,
   "metadata": {
    "ExecuteTime": {
     "end_time": "2021-08-08T17:13:50.859644Z",
     "start_time": "2021-08-08T17:13:50.855307Z"
    }
   },
   "outputs": [
    {
     "data": {
      "text/plain": [
       "['rel',\n",
       " 'QualityScore',\n",
       " 'QualityScore2',\n",
       " 'PageRank_',\n",
       " 'url_click_count',\n",
       " 'url_dwell_time']"
      ]
     },
     "execution_count": 175,
     "metadata": {},
     "output_type": "execute_result"
    }
   ],
   "source": [
    "y_cols = ['rel']\n",
    "y_cols.extend(objective_cols)\n",
    "y_cols"
   ]
  },
  {
   "cell_type": "code",
   "execution_count": 176,
   "metadata": {
    "ExecuteTime": {
     "end_time": "2021-08-08T17:14:00.500071Z",
     "start_time": "2021-08-08T17:14:00.497792Z"
    }
   },
   "outputs": [],
   "source": [
    "mu = 1"
   ]
  },
  {
   "cell_type": "code",
   "execution_count": 183,
   "metadata": {
    "ExecuteTime": {
     "end_time": "2021-08-08T17:22:20.398212Z",
     "start_time": "2021-08-08T17:19:14.640318Z"
    }
   },
   "outputs": [
    {
     "name": "stdout",
     "output_type": "stream",
     "text": [
      "      Iter       Train Loss   Remaining Time \n",
      "         1           1.9426            3.21m\n",
      "         2           1.8613            3.17m\n",
      "         3           1.8428            3.13m\n",
      "         4           1.8057            3.07m\n",
      "         5           1.7732            3.00m\n",
      "         6           1.7404            2.95m\n",
      "         7           1.7128            2.90m\n",
      "         8           1.6944            2.86m\n",
      "         9           1.6768            2.82m\n",
      "        10           1.6546            2.79m\n",
      "        11           1.6349            2.76m\n",
      "        12           1.6237            2.72m\n",
      "        13           1.6129            2.69m\n",
      "        14           1.5956            2.66m\n",
      "        15           1.5831            2.62m\n",
      "        16           1.5744            2.60m\n",
      "        17           1.5672            2.57m\n",
      "        18           1.5523            2.53m\n",
      "        19           1.5426            2.50m\n",
      "        20           1.5365            2.47m\n",
      "        21           1.5313            2.44m\n",
      "        22           1.5274            2.41m\n",
      "        23           1.5155            2.38m\n",
      "        24           1.5078            2.35m\n",
      "        25           1.5055            2.31m\n",
      "        26           1.5016            2.28m\n",
      "        27           1.4991            2.25m\n",
      "        28           1.4890            2.22m\n",
      "        29           1.4825            2.19m\n",
      "        30           1.4817            2.16m\n",
      "        31           1.4830            2.13m\n",
      "        32           1.4861            2.10m\n",
      "        33           1.4721            2.07m\n",
      "        34           1.4638            2.04m\n",
      "        35           1.4606            2.01m\n",
      "        36           1.4616            1.98m\n",
      "        37           1.4667            1.94m\n",
      "        38           1.4575            1.91m\n",
      "        39           1.4516            1.88m\n",
      "        40           1.4508            1.85m\n",
      "        41           1.4497            1.82m\n",
      "        42           1.4520            1.79m\n",
      "        43           1.4411            1.76m\n",
      "        44           1.4350            1.73m\n",
      "        45           1.4360            1.69m\n",
      "        46           1.4421            1.66m\n",
      "        47           1.4485            1.63m\n",
      "        48           1.4352            1.60m\n",
      "        49           1.4265            1.57m\n",
      "        50           1.4230            1.54m\n",
      "        51           1.4275            1.51m\n",
      "        52           1.4330            1.48m\n",
      "        53           1.4255            1.45m\n",
      "        54           1.4228            1.42m\n",
      "        55           1.4173            1.39m\n",
      "        56           1.4186            1.36m\n",
      "        57           1.4241            1.33m\n",
      "        58           1.4154            1.30m\n",
      "        59           1.4120            1.26m\n",
      "        60           1.4151            1.23m\n",
      "        61           1.4225            1.20m\n",
      "        62           1.4241            1.17m\n",
      "        63           1.4117            1.14m\n",
      "        64           1.4049            1.11m\n",
      "        65           1.4048            1.08m\n",
      "        66           1.4099            1.05m\n",
      "        67           1.4188            1.02m\n",
      "        68           1.4124           59.34s\n",
      "        69           1.4030           57.48s\n",
      "        70           1.3997           55.63s\n",
      "        71           1.4035           53.79s\n",
      "        72           1.4109           51.94s\n",
      "        73           1.4035           50.09s\n",
      "        74           1.4015           48.24s\n",
      "        75           1.4048           46.38s\n",
      "        76           1.4051           44.54s\n",
      "        77           1.4092           42.69s\n",
      "        78           1.3979           40.83s\n",
      "        79           1.3906           38.97s\n",
      "        80           1.3924           37.11s\n",
      "        81           1.4006           35.28s\n",
      "        82           1.4106           33.43s\n",
      "        83           1.3967           31.58s\n",
      "        84           1.3880           29.72s\n",
      "        85           1.3869           27.86s\n",
      "        86           1.3928           26.00s\n",
      "        87           1.4021           24.15s\n",
      "        88           1.3958           22.29s\n",
      "        89           1.3939           20.44s\n",
      "        90           1.3895           18.58s\n",
      "        91           1.3917           16.72s\n",
      "        92           1.3975           14.86s\n",
      "        93           1.3879           13.00s\n",
      "        94           1.3846           11.14s\n",
      "        95           1.3882            9.28s\n",
      "        96           1.3967            7.43s\n",
      "        97           1.3998            5.57s\n",
      "        98           1.3871            3.71s\n",
      "        99           1.3787            1.86s\n",
      "       100           1.3791            0.00s\n"
     ]
    },
    {
     "data": {
      "text/plain": [
       "MooGBTRegressor(alpha=0.9, ccp_alpha=0.0,\n",
       "                constraints=[{'alpha': 0, 'b': 3, 'mu': 1},\n",
       "                             {'alpha': 0.2122619550670084, 'b': 3, 'mu': 1},\n",
       "                             {'alpha': 0.17246325604719637, 'b': 1.5, 'mu': 1},\n",
       "                             {'alpha': 0, 'b': 4, 'mu': 1},\n",
       "                             {'alpha': 0, 'b': 4, 'mu': 1}],\n",
       "                criterion='friedman_mse', init=None, learning_rate=0.1,\n",
       "                loss='ls', max_depth=3, max_features=None, max_leaf_nodes=None,\n",
       "                min_impurity_decrease=0.0, min_impurity_split=None,\n",
       "                min_samples_leaf=1, min_samples_split=2,\n",
       "                min_weight_fraction_leaf=0.0, n_estimators=100,\n",
       "                n_iter_no_change=None, random_state=2021, subsample=1.0,\n",
       "                tol=0.0001, validation_fraction=0.1, verbose=10,\n",
       "                warm_start=False)"
      ]
     },
     "execution_count": 183,
     "metadata": {},
     "output_type": "execute_result"
    }
   ],
   "source": [
    "unconstrained_gbt = MooGBTRegressor(\n",
    "                        loss='ls',\n",
    "                        n_estimators=100,\n",
    "                        verbose=10,\n",
    "                        random_state=2021,\n",
    "                        constraints=[\n",
    "                            {\"mu\":mu, \"b\":3},\n",
    "                            {\"mu\":mu, \"b\":3},\n",
    "                            {\"mu\":mu, \"b\":1.5},\n",
    "                            {\"mu\":mu, \"b\":4},\n",
    "                            {\"mu\":mu, \"b\":4}\n",
    "                        ]\n",
    ")\n",
    "\n",
    "unconstrained_gbt.fit(train_sample[features].values, train_sample[y_cols].values)"
   ]
  },
  {
   "cell_type": "code",
   "execution_count": 185,
   "metadata": {
    "ExecuteTime": {
     "end_time": "2021-08-08T17:32:03.333008Z",
     "start_time": "2021-08-08T17:32:03.321022Z"
    }
   },
   "outputs": [
    {
     "data": {
      "text/html": [
       "<div>\n",
       "<style scoped>\n",
       "    .dataframe tbody tr th:only-of-type {\n",
       "        vertical-align: middle;\n",
       "    }\n",
       "\n",
       "    .dataframe tbody tr th {\n",
       "        vertical-align: top;\n",
       "    }\n",
       "\n",
       "    .dataframe thead th {\n",
       "        text-align: right;\n",
       "    }\n",
       "</style>\n",
       "<table border=\"1\" class=\"dataframe\">\n",
       "  <thead>\n",
       "    <tr style=\"text-align: right;\">\n",
       "      <th></th>\n",
       "      <th>n_estimators</th>\n",
       "      <th>primary_objective</th>\n",
       "      <th>sub_objective_1</th>\n",
       "      <th>sub_objective_2</th>\n",
       "      <th>sub_objective_3</th>\n",
       "      <th>sub_objective_4</th>\n",
       "      <th>sub_objective_5</th>\n",
       "    </tr>\n",
       "  </thead>\n",
       "  <tbody>\n",
       "    <tr>\n",
       "      <th>0</th>\n",
       "      <td>0</td>\n",
       "      <td>1.942555</td>\n",
       "      <td>3.212475</td>\n",
       "      <td>3.144707</td>\n",
       "      <td>2.425255</td>\n",
       "      <td>3.998334</td>\n",
       "      <td>4.002935</td>\n",
       "    </tr>\n",
       "    <tr>\n",
       "      <th>1</th>\n",
       "      <td>1</td>\n",
       "      <td>1.861258</td>\n",
       "      <td>2.902729</td>\n",
       "      <td>2.860118</td>\n",
       "      <td>1.877241</td>\n",
       "      <td>3.617932</td>\n",
       "      <td>3.623202</td>\n",
       "    </tr>\n",
       "    <tr>\n",
       "      <th>2</th>\n",
       "      <td>2</td>\n",
       "      <td>1.842809</td>\n",
       "      <td>2.897841</td>\n",
       "      <td>2.876034</td>\n",
       "      <td>1.395293</td>\n",
       "      <td>3.574403</td>\n",
       "      <td>3.580581</td>\n",
       "    </tr>\n",
       "    <tr>\n",
       "      <th>3</th>\n",
       "      <td>3</td>\n",
       "      <td>1.805718</td>\n",
       "      <td>2.947334</td>\n",
       "      <td>2.927003</td>\n",
       "      <td>1.403212</td>\n",
       "      <td>3.634694</td>\n",
       "      <td>3.640918</td>\n",
       "    </tr>\n",
       "    <tr>\n",
       "      <th>4</th>\n",
       "      <td>4</td>\n",
       "      <td>1.773215</td>\n",
       "      <td>2.989910</td>\n",
       "      <td>2.974469</td>\n",
       "      <td>1.410341</td>\n",
       "      <td>3.691874</td>\n",
       "      <td>3.698181</td>\n",
       "    </tr>\n",
       "  </tbody>\n",
       "</table>\n",
       "</div>"
      ],
      "text/plain": [
       "   n_estimators  primary_objective  sub_objective_1  sub_objective_2  \\\n",
       "0             0           1.942555         3.212475         3.144707   \n",
       "1             1           1.861258         2.902729         2.860118   \n",
       "2             2           1.842809         2.897841         2.876034   \n",
       "3             3           1.805718         2.947334         2.927003   \n",
       "4             4           1.773215         2.989910         2.974469   \n",
       "\n",
       "   sub_objective_3  sub_objective_4  sub_objective_5  \n",
       "0         2.425255         3.998334         4.002935  \n",
       "1         1.877241         3.617932         3.623202  \n",
       "2         1.395293         3.574403         3.580581  \n",
       "3         1.403212         3.634694         3.640918  \n",
       "4         1.410341         3.691874         3.698181  "
      ]
     },
     "execution_count": 185,
     "metadata": {},
     "output_type": "execute_result"
    }
   ],
   "source": [
    "# return a Pandas dataframe with loss values of objectives wrt boosting iteration\n",
    "losses = unconstrained_gbt.loss_.get_losses()\n",
    "losses.head()"
   ]
  },
  {
   "cell_type": "code",
   "execution_count": 186,
   "metadata": {
    "ExecuteTime": {
     "end_time": "2021-08-08T17:32:05.078121Z",
     "start_time": "2021-08-08T17:32:05.069131Z"
    }
   },
   "outputs": [
    {
     "data": {
      "text/html": [
       "<div>\n",
       "<style scoped>\n",
       "    .dataframe tbody tr th:only-of-type {\n",
       "        vertical-align: middle;\n",
       "    }\n",
       "\n",
       "    .dataframe tbody tr th {\n",
       "        vertical-align: top;\n",
       "    }\n",
       "\n",
       "    .dataframe thead th {\n",
       "        text-align: right;\n",
       "    }\n",
       "</style>\n",
       "<table border=\"1\" class=\"dataframe\">\n",
       "  <thead>\n",
       "    <tr style=\"text-align: right;\">\n",
       "      <th></th>\n",
       "      <th>n_estimators</th>\n",
       "      <th>primary_objective</th>\n",
       "      <th>sub_objective_1</th>\n",
       "      <th>sub_objective_2</th>\n",
       "      <th>sub_objective_3</th>\n",
       "      <th>sub_objective_4</th>\n",
       "      <th>sub_objective_5</th>\n",
       "    </tr>\n",
       "  </thead>\n",
       "  <tbody>\n",
       "    <tr>\n",
       "      <th>99</th>\n",
       "      <td>99</td>\n",
       "      <td>1.37914</td>\n",
       "      <td>2.980079</td>\n",
       "      <td>3.078888</td>\n",
       "      <td>1.552241</td>\n",
       "      <td>3.695473</td>\n",
       "      <td>3.703249</td>\n",
       "    </tr>\n",
       "  </tbody>\n",
       "</table>\n",
       "</div>"
      ],
      "text/plain": [
       "    n_estimators  primary_objective  sub_objective_1  sub_objective_2  \\\n",
       "99            99            1.37914         2.980079         3.078888   \n",
       "\n",
       "    sub_objective_3  sub_objective_4  sub_objective_5  \n",
       "99         1.552241         3.695473         3.703249  "
      ]
     },
     "execution_count": 186,
     "metadata": {},
     "output_type": "execute_result"
    }
   ],
   "source": [
    "losses.tail(1)"
   ]
  },
  {
   "cell_type": "code",
   "execution_count": 187,
   "metadata": {
    "ExecuteTime": {
     "end_time": "2021-08-08T17:32:06.829150Z",
     "start_time": "2021-08-08T17:32:06.617708Z"
    }
   },
   "outputs": [],
   "source": [
    "y_pred_val = unconstrained_gbt.predict(val_sample[features])"
   ]
  },
  {
   "cell_type": "code",
   "execution_count": 188,
   "metadata": {
    "ExecuteTime": {
     "end_time": "2021-08-08T17:32:08.145327Z",
     "start_time": "2021-08-08T17:32:08.137632Z"
    }
   },
   "outputs": [
    {
     "name": "stdout",
     "output_type": "stream",
     "text": [
      "1.3813816279960351\n",
      "3.000479537645039\n",
      "3.1433014840634153\n",
      "1.5504321353797184\n",
      "3.7202936923105563\n",
      "3.7291793889825406\n"
     ]
    }
   ],
   "source": [
    "for c in y_cols:\n",
    "    print (f\"{mean_squared_error(y_pred_val, val_sample[c])}\")"
   ]
  },
  {
   "cell_type": "code",
   "execution_count": 189,
   "metadata": {
    "ExecuteTime": {
     "end_time": "2021-08-08T17:40:47.459496Z",
     "start_time": "2021-08-08T17:40:47.451987Z"
    }
   },
   "outputs": [
    {
     "name": "stdout",
     "output_type": "stream",
     "text": [
      "rel, 1.3813816279960351\n",
      "QualityScore, 3.000479537645039\n",
      "QualityScore2, 3.1433014840634153\n",
      "PageRank_, 1.5504321353797184\n",
      "url_click_count, 3.7202936923105563\n",
      "url_dwell_time, 3.7291793889825406\n"
     ]
    }
   ],
   "source": [
    "for c in y_cols:\n",
    "    print (f\"{c}, {mean_squared_error(y_pred_val, val_sample[c])}\")"
   ]
  },
  {
   "cell_type": "code",
   "execution_count": 198,
   "metadata": {
    "ExecuteTime": {
     "end_time": "2021-08-08T17:43:24.370981Z",
     "start_time": "2021-08-08T17:43:24.367568Z"
    }
   },
   "outputs": [],
   "source": [
    "plt.rcParams['figure.figsize'] = (14, 6)\n",
    "plt.rcParams['axes.labelsize'] = 20\n",
    "plt.rcParams['axes.titlesize'] = 20\n",
    "plt.rcParams[\"font.size\"] = \"20\"\n",
    "plt.rcParams[\"legend.fontsize\"] = 12"
   ]
  },
  {
   "cell_type": "code",
   "execution_count": 199,
   "metadata": {
    "ExecuteTime": {
     "end_time": "2021-08-08T17:43:25.868970Z",
     "start_time": "2021-08-08T17:43:25.590493Z"
    }
   },
   "outputs": [
    {
     "data": {
      "text/plain": [
       "<matplotlib.legend.Legend at 0x7fab28e02690>"
      ]
     },
     "execution_count": 199,
     "metadata": {},
     "output_type": "execute_result"
    },
    {
     "data": {
      "image/png": "[encoded data removed]",
      "text/plain": [
       "<Figure size 1008x432 with 1 Axes>"
      ]
     },
     "metadata": {
      "needs_background": "light"
     },
     "output_type": "display_data"
    }
   ],
   "source": [
    "sns.lineplot(data=losses, x='n_estimators', y='primary_objective', label=f'Relevance')\n",
    "sns.lineplot(data=losses, x='n_estimators', y='sub_objective_1', label='QualityScore')\n",
    "sns.lineplot(data=losses, x='n_estimators', y='sub_objective_2', label='QualityScore2')\n",
    "sns.lineplot(data=losses, x='n_estimators', y='sub_objective_3', label='PageRank')\n",
    "sns.lineplot(data=losses, x='n_estimators', y='sub_objective_4', label='URLCllickCount')\n",
    "sns.lineplot(data=losses, x='n_estimators', y='sub_objective_5', label='URLDwellTime')\n",
    "\n",
    "plt.xlabel(\"# estimators(trees)\")\n",
    "plt.ylabel(\"Cost\")\n",
    "plt.legend(loc = \"upper right\")"
   ]
  },
  {
   "cell_type": "code",
   "execution_count": 200,
   "metadata": {
    "ExecuteTime": {
     "end_time": "2021-08-08T17:43:29.932440Z",
     "start_time": "2021-08-08T17:43:29.762314Z"
    }
   },
   "outputs": [
    {
     "data": {
      "text/plain": [
       "<matplotlib.legend.Legend at 0x7fab28e58650>"
      ]
     },
     "execution_count": 200,
     "metadata": {},
     "output_type": "execute_result"
    },
    {
     "data": {
      "image/png": "[encoded data removed]",
      "text/plain": [
       "<Figure size 1008x432 with 1 Axes>"
      ]
     },
     "metadata": {
      "needs_background": "light"
     },
     "output_type": "display_data"
    }
   ],
   "source": [
    "import seaborn as sns\n",
    "import matplotlib.pyplot as plt\n",
    "sns.lineplot(data=losses, x='n_estimators', y='primary_objective', label=f'Relevance')\n",
    "\n",
    "plt.xlabel(\"# estimators(trees)\")\n",
    "plt.ylabel(\"Cost\")\n",
    "plt.legend(loc = \"upper right\")"
   ]
  }
 ],
 "metadata": {
  "kernelspec": {
   "display_name": "Python 3",
   "language": "python",
   "name": "python3"
  },
  "language_info": {
   "codemirror_mode": {
    "name": "ipython",
    "version": 3
   },
   "file_extension": ".py",
   "mimetype": "text/x-python",
   "name": "python",
   "nbconvert_exporter": "python",
   "pygments_lexer": "ipython3",
   "version": "3.7.6"
  },
  "toc": {
   "base_numbering": 1,
   "nav_menu": {},
   "number_sections": true,
   "sideBar": true,
   "skip_h1_title": false,
   "title_cell": "Table of Contents",
   "title_sidebar": "Contents",
   "toc_cell": false,
   "toc_position": {},
   "toc_section_display": true,
   "toc_window_display": true
  }
 },
 "nbformat": 4,
 "nbformat_minor": 4
}
